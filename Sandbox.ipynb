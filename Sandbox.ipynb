{
 "cells": [
  {
   "cell_type": "code",
   "execution_count": null,
   "metadata": {},
   "outputs": [],
   "source": [
    "#imports\n",
    "import json\n",
    "import Levenshtein as lev\n",
    "import datetime\n",
    "from fuzzywuzzy import fuzz \n",
    "from fuzzywuzzy import process\n",
    "import nltk"
   ]
  },
  {
   "cell_type": "code",
   "execution_count": null,
   "metadata": {},
   "outputs": [],
   "source": [
    "import Levenshtein as lev\n",
    "def leven(str1, str2):\n",
    "    Distance = lev.distance(str1.lower(), str2.lower())\n",
    "    Ratio = lev.ratio(str1.lower(), str2.lower())\n",
    "    if Ratio > .8:\n",
    "        return True\n",
    "    else:\n",
    "        return False"
   ]
  },
  {
   "cell_type": "code",
   "execution_count": null,
   "metadata": {},
   "outputs": [],
   "source": [
    "import json\n",
    "file = 'gg2013.json'\n",
    "data = json.load(open(file))"
   ]
  },
  {
   "cell_type": "code",
   "execution_count": 137,
   "metadata": {},
   "outputs": [],
   "source": [
    "search_terms = [r'[Pp]resent']\n",
    "stop_terms = [r'[Rr]epresent']"
   ]
  },
  {
   "cell_type": "code",
   "execution_count": 138,
   "metadata": {},
   "outputs": [],
   "source": [
    "def get_key(my_dict, val): \n",
    "    for key, value in my_dict.items(): \n",
    "         if val == value: \n",
    "             return key"
   ]
  },
  {
   "cell_type": "code",
   "execution_count": 139,
   "metadata": {
    "scrolled": false
   },
   "outputs": [
    {
     "name": "stdout",
     "output_type": "stream",
     "text": [
      "best television series - drama\n",
      "{'text': 'Why did they give out best drama series before they presented best actress in a drama series? #GoldenGlobes', 'user': {'screen_name': 'tv8junkie', 'id': 458791350}, 'id': 290633650603687940, 'timestamp_ms': 1358127436000}\n",
      "\n",
      "best television series - drama\n",
      "{'text': 'Best drama series... Paul Rudd clueless, 2 late presenters show up during speech #GoldenGlobes #opps', 'user': {'screen_name': 'BeckyMorissette', 'id': 553602895}, 'id': 290634061171535872, 'timestamp_ms': 1358127534000}\n",
      "\n",
      " best animated feature film\n",
      "{'text': \"Wow, I did not see Bill coming. Maybe he's presenting Best Animated Film? #GoldenGlobes\", 'user': {'screen_name': 'LanceAndJeff', 'id': 81435006}, 'id': 290639126154313729, 'timestamp_ms': 1358128742000}\n",
      "\n",
      " best animated feature film\n",
      "{'text': 'What did that have to do with best animated feature? Great presenter choice... #GoldenGlobes', 'user': {'screen_name': 'abbybergren', 'id': 154327650}, 'id': 290651228000632832, 'timestamp_ms': 1358131627000}\n",
      "\n",
      " best animated feature film\n",
      "{'text': \"Sacha Baron Cohen stumbles on stage to present best animated feature, his snifter must be filled with Tarantino's MOJO. #GoldenGlobes #fb\", 'user': {'screen_name': 'NickAForte', 'id': 145029378}, 'id': 290651302864748544, 'timestamp_ms': 1358131645000}\n",
      "\n",
      "best television series - drama\n",
      "{'text': 'Jay Leno and Jimmy Fallon presenting best TV series comedy or musical #GoldenGlobes', 'user': {'screen_name': 'MsPhenom', 'id': 22193713}, 'id': 290660089122136064, 'timestamp_ms': 1358133740000}\n",
      "\n",
      "best television series - comedy or musical\n",
      "{'text': 'Jay Leno and Jimmy Fallon presenting best TV series comedy or musical #GoldenGlobes', 'user': {'screen_name': 'MsPhenom', 'id': 22193713}, 'id': 290660089122136064, 'timestamp_ms': 1358133740000}\n",
      "\n",
      "best motion picture - drama\n",
      "{'text': 'Julia Roberts presents Best Motion Picture, Drama to \"Argo.\" #GoldenGlobes', 'user': {'screen_name': 'MSNtv', 'id': 24034570}, 'id': 290669210856722433, 'timestamp_ms': 1358135914000}\n",
      "\n",
      "best motion picture - drama\n",
      "{'text': 'Best Motion Picture, #Drama: \"#Argo\"! Had a feeling, with longtime #GeorgeClooney friend #JuliaRoberts as presenter. #GoldenGlobes', 'user': {'screen_name': 'TMSJay', 'id': 302087237}, 'id': 290669749153714176, 'timestamp_ms': 1358136043000}\n",
      "\n",
      "best motion picture - drama\n",
      "{'text': '@Julia Roberts(!) presents Argo(!) producers with best motion picture drama at the #GoldenGlobes. Better luck next awards show, Lincoln.\"', 'user': {'screen_name': 'jerobongillian', 'id': 284945092}, 'id': 290672619483709441, 'timestamp_ms': 1358136727000}\n",
      "\n"
     ]
    }
   ],
   "source": [
    "gg_stop_words = ['Globe', 'RT', 'http', 'Golden', 'Globes', 'GoldenGlobes', 'Goldenglobes', 'Goldenglobe', 'gg','golden globes', 'golden globe', 'goldenglobe','goldenglobes','gg2015','gg15','goldenglobe2015','goldenglobe15','goldenglobes2015','goldenglobes15', 'gg2013','gg13','goldenglobe2013','goldenglobe13','goldenglobes2013','goldenglobes13', 'rt', '2013', '2015']\n",
    "awards = list(award_dict.values())\n",
    "clean_data = []\n",
    "for x in data:\n",
    "    if 'RT' not in x['text']:\n",
    "        clean_data.append(x)\n",
    "for x in clean_data:\n",
    "    tweet = x[\"text\"]\n",
    "    screenname = x[\"user\"][\"screen_name\"]\n",
    "    for award_regex in awards:\n",
    "        for search_term in search_terms:\n",
    "            if re.search(search_term, tweet) and not re.search(stop_terms[0], tweet) and re.search(award_regex, tweet):\n",
    "            #print(screenname)\n",
    "            #if tweet.find(search_term) != -1 and tweet.find(stop_terms[0]) == -1:\n",
    "            #if fuzz.WRatio(search_term, tweet) >= 85 or fuzz.partial_ratio(search_term, tweet) >= 90:\n",
    "                print(get_key(award_dict, award_regex))\n",
    "                print(x)\n",
    "                print()\n",
    "                #break"
   ]
  },
  {
   "cell_type": "code",
   "execution_count": null,
   "metadata": {},
   "outputs": [],
   "source": [
    "# timestamp parse\n",
    "import datetime\n",
    "for x in data:\n",
    "    timestampms = x['timestamp_ms']\n",
    "    date = datetime.datetime.fromtimestamp(int(timestampms) / 1000.0)\n",
    "    date = date.strftime('%Y-%m-%d %H:%M:%S')\n",
    "    print(date)\n",
    "    print()"
   ]
  },
  {
   "cell_type": "code",
   "execution_count": null,
   "metadata": {},
   "outputs": [],
   "source": [
    "# fuzzywuzzy sandbox\n",
    "from fuzzywuzzy import fuzz \n",
    "from fuzzywuzzy import process\n",
    "\n",
    "search_term = \"best\"\n",
    "s2 = \"Um... mani cam? That's new. #GoldenGlobes\"\n",
    "print(\"FuzzyWuzzy WRatio: \", fuzz.WRatio(search_term, s2),'\\n')\n",
    "print(\"FuzzyWuzzy partial ratio: \", fuzz.partial_ratio(search_term, s2), '\\n\\n') \n",
    "\n"
   ]
  },
  {
   "cell_type": "code",
   "execution_count": null,
   "metadata": {},
   "outputs": [],
   "source": [
    "# NLTK POS sandbox\n",
    "nltk.download('averaged_perceptron_tagger')\n",
    "nltk.download('punkt')\n",
    "\n",
    "# finds all the proper nouns\n",
    "\n",
    "tweet = \"Looking forward to watching Tina Fey and Amy Poehler host the #GoldenGlobes\"\n",
    "text = nltk.word_tokenize(tweet)\n",
    "tagged_text = nltk.pos_tag(text)\n",
    "for token in tagged_text:\n",
    "    if token[1] == \"NNP\":\n",
    "        print(token[0])"
   ]
  },
  {
   "cell_type": "code",
   "execution_count": null,
   "metadata": {},
   "outputs": [],
   "source": [
    "'''Structure of json 2015:\n",
    "{'text', 'timestamp_ms', 'user': {'id', 'screen_name'}, 'id'}\n",
    "Structure of json 2013: (different order than 2015):\n",
    "{'text', 'user': {'screen_name', 'id'}, 'id', 'timestamp_ms'}\n",
    "Structure of json 2020:\n",
    "{'_id': {'$oid'}, 'user_id', 'text', 'created_at', 'user', 'id'}\n",
    "'''"
   ]
  },
  {
   "cell_type": "code",
   "execution_count": null,
   "metadata": {},
   "outputs": [],
   "source": [
    "# REGEX CONSTRUCTION\n",
    "\n",
    "import datetime\n",
    "import json\n",
    "import re\n",
    "\n",
    "award_names = [' best screenplay - motion picture ',' best director - motion picture ',' best performance by an actress in a television series - comedy or musical ',' best foreign language film ',' best performance by an actor in a supporting role in a motion picture ',' best performance by an actress in a supporting role in a series, mini-series or motion picture made for television ',' best motion picture - comedy or musical ',' best performance by an actress in a motion picture - comedy or musical ',' best mini-series or motion picture made for television ',' best original score - motion picture ',' best performance by an actress in a television series - drama ',' best performance by an actress in a motion picture - drama ',' cecil b. demille award ',' best performance by an actor in a motion picture - comedy or musical ',' best motion picture - drama ',' best performance by an actor in a supporting role in a series, mini-series or motion picture made for television ',' best performance by an actress in a supporting role in a motion picture ',' best television series - drama ',' best performance by an actor in a mini-series or motion picture made for television ',' best performance by an actress in a mini-series or motion picture made for television ',' best animated feature film ',' best original song - motion picture ',' best performance by an actor in a motion picture - drama ',' best television series - comedy or musical ',' best performance by an actor in a television series - drama ',' best performance by an actor in a television series - comedy or musical ']\n",
    "def getDate(timestamp):\n",
    "    date = datetime.datetime.fromtimestamp(int(timestamp) / 1000.0)\n",
    "    date = date.strftime('%Y-%m-%d %H:%M:%S')\n",
    "    return date\n",
    "\n",
    "def getTime(date):\n",
    "    A = date.split()[1]\n",
    "    A = A.split(\":\")[0]\n",
    "    return A\n",
    "\n",
    "  \n",
    "tweets = json.load(open(\"gg2013.json\"))\n",
    "\n",
    "for tweet in tweets:\n",
    "    text = tweet['text']\n",
    "    timestamp = tweet['timestamp_ms']\n",
    "    date = getDate(timestamp)\n",
    "    time = getTime(date)\n",
    "    if int(time)>=20:    \n",
    "        if re.search('best performance by an actress',text):\n",
    "            print(time)\n",
    "            print(tweet)\n",
    "for award in award_names:\n",
    "    print(award)\n",
    "    \n"
   ]
  },
  {
   "cell_type": "code",
   "execution_count": null,
   "metadata": {},
   "outputs": [],
   "source": [
    "# attempt to parse 2020 file\n",
    "'''path = 'gg2020.json'\n",
    "with open(path, 'r') as f: \n",
    "    for line in f.readlines(): \n",
    "        tweet = json.loads(line)\n",
    "        print(tweet)'''"
   ]
  },
  {
   "cell_type": "code",
   "execution_count": 136,
   "metadata": {},
   "outputs": [],
   "source": [
    "# REGEXS\n",
    "award_dict = {}\n",
    "\n",
    "# best performance by an actor in a motion picture - comedy or musical\n",
    "award_dict['best performance by an actor in a motion picture - comedy or musical'] = (r'[Bb]est [Pp]erformance .* [Aa]ct[oe]r.* [Mm]otion [Pp]icture.*[Cc]omedy')\n",
    "\n",
    "# best performance by an actor in a supporting role in a series, mini-series or motion picture made for television \n",
    "award_dict['best performance by an actor in a supporting role in a series, mini-series or motion picture made for television'] = (r'[Aa]ct[oe]r .* [Ss]upporting [Rr]ole .* [Mm]ini-[Ss]eries')\n",
    "\n",
    "#  best performance by an actress in a supporting role in a motion picture\n",
    "award_dict['best performance by an actress in a supporting role in a motion picture'] = (r'([Bb]est|[Ll]eading) ([Ss]upporting [Aa]ctress|[Aa]ctress.*[Ss]upporting).*([Mm]otion [Pp]icture|[Ff]ilm)')\n",
    "\n",
    "#  best motion picture - drama \n",
    "award_dict['best motion picture - drama'] = (r'([Bb]est|[Ll]eading) ((([Mm]otion)?\\s?[Pp]icture|[Ff]ilm).*[Dd]rama|[Dd]rama.*(([Mm]otion)? [Pp]icture|[Ff]ilm))')\n",
    "\n",
    "#  best television series - drama \n",
    "award_dict['best television series - drama'] = (r'([Bb]est|[Ll]eading) (([Tt][Vv]|[Ss]eries).*[Dd]rama|([Tt][Vv]|[Ss]eries)|[Dd]rama [Ss]eries)')\n",
    "\n",
    "# best performance by an actor in a mini-series or motion picture made for television \n",
    "award_dict['best performance by an actor in a mini-series or motion picture made for television'] = (r'([Bb]est|[Ll]eading) [Aa]ctor.*mini')\n",
    "\n",
    "# best performance by an actress in a mini-series or motion picture made for television \n",
    "award_dict['best performance by an actress in a mini-series or motion picture made for television'] = (r'([Bb]est|[Ll]eading) [Aa]ctress.*mini')\n",
    "\n",
    "#  best animated feature film \n",
    "award_dict[' best animated feature film'] = (r'[Bb]est [Aa]nimated')\n",
    "\n",
    "# best performance by an actor in a motion picture - drama \n",
    "award_dict['best performance by an actor in a motion picture - drama'] = (r'[Bb]est [Aa]ct[oe]r(?!.*\\b[Tt][Vv]\\b).*([Dd]rama)?')\n",
    "\n",
    "# best television series - comedy or musical \n",
    "award_dict['best television series - comedy or musical'] = (r'[Bb]est ([Tt][Vv]|[Tt]elevision).*[Cc]omedy')\n",
    "\n",
    "# best performance by an actor in a television series - comedy or musical\n",
    "award_dict['best performance by an actor in a television series - comedy or musical'] = (r'[Bb]est [Aa]ct[oe]r( in a)?,? (TV|[Tt]elevision).*[Cc]omedy')\n",
    "\n",
    "# best performance by an actor in a television series - drama\n",
    "award_dict['best performance by an actor in a television series - drama'] = (r'[Bb]est [Aa]ct[oe]r( in a| in)?,? ([Tt][Vv]|[Tt]elevision).*[Dd]rama')\n",
    "\n",
    "\n"
   ]
  },
  {
   "cell_type": "code",
   "execution_count": null,
   "metadata": {},
   "outputs": [],
   "source": []
  }
 ],
 "metadata": {
  "kernelspec": {
   "display_name": "Python 3",
   "language": "python",
   "name": "python3"
  },
  "language_info": {
   "codemirror_mode": {
    "name": "ipython",
    "version": 3
   },
   "file_extension": ".py",
   "mimetype": "text/x-python",
   "name": "python",
   "nbconvert_exporter": "python",
   "pygments_lexer": "ipython3",
   "version": "3.7.4"
  }
 },
 "nbformat": 4,
 "nbformat_minor": 4
}
