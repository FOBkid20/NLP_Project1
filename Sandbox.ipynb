{
 "cells": [
  {
   "cell_type": "code",
   "execution_count": null,
   "metadata": {},
   "outputs": [],
   "source": [
    "#imports\n",
    "import json\n",
    "import Levenshtein as lev\n",
    "import datetime\n",
    "from fuzzywuzzy import fuzz \n",
    "from fuzzywuzzy import process\n",
    "import nltk"
   ]
  },
  {
   "cell_type": "code",
   "execution_count": null,
   "metadata": {},
   "outputs": [],
   "source": [
    "import json\n",
    "file = 'gg2013.json'\n",
    "data = json.load(open(file))"
   ]
  },
  {
   "cell_type": "code",
   "execution_count": null,
   "metadata": {},
   "outputs": [],
   "source": [
    "search_terms = [\"host\", \"hostess\", \"best\"]"
   ]
  },
  {
   "cell_type": "code",
   "execution_count": null,
   "metadata": {},
   "outputs": [],
   "source": [
    "import Levenshtein as lev\n",
    "def leven(str1, str2):\n",
    "    Distance = lev.distance(str1.lower(), str2.lower())\n",
    "    Ratio = lev.ratio(str1.lower(), str2.lower())\n",
    "    if Ratio > .8:\n",
    "        return True\n",
    "    else:\n",
    "        return False"
   ]
  },
  {
   "cell_type": "code",
   "execution_count": null,
   "metadata": {},
   "outputs": [],
   "source": [
    "# attempt to parse 2020 file\n",
    "'''path = 'gg2020.json'\n",
    "with open(path, 'r') as f: \n",
    "    for line in f.readlines(): \n",
    "        tweet = json.loads(line)\n",
    "        print(tweet)'''"
   ]
  },
  {
   "cell_type": "code",
   "execution_count": null,
   "metadata": {
    "scrolled": true
   },
   "outputs": [],
   "source": [
    "for x in data:\n",
    "    tweet = x[\"text\"]\n",
    "    screenname = x[\"user\"][\"screen_name\"]\n",
    "    for search_term in search_terms:\n",
    "        #print(screenname)\n",
    "        #if screenname.find(search_term) != -1:\n",
    "        if fuzz.WRatio(search_term, tweet) >= 85 or fuzz.partial_ratio(search_term, tweet) >= 90:\n",
    "            print(search_term)\n",
    "            print(x)\n",
    "            print()\n",
    "            break"
   ]
  },
  {
   "cell_type": "code",
   "execution_count": null,
   "metadata": {},
   "outputs": [],
   "source": [
    "# timestamp parse\n",
    "import datetime\n",
    "for x in data:\n",
    "    timestampms = x['timestamp_ms']\n",
    "    date = datetime.datetime.fromtimestamp(int(timestampms) / 1000.0)\n",
    "    date = date.strftime('%Y-%m-%d %H:%M:%S')\n",
    "    print(date)\n",
    "    print()"
   ]
  },
  {
   "cell_type": "code",
   "execution_count": null,
   "metadata": {},
   "outputs": [],
   "source": [
    "# fuzzywuzzy sandbox\n",
    "from fuzzywuzzy import fuzz \n",
    "from fuzzywuzzy import process\n",
    "\n",
    "search_term = \"best\"\n",
    "s2 = \"Um... mani cam? That's new. #GoldenGlobes\"\n",
    "print(\"FuzzyWuzzy WRatio: \", fuzz.WRatio(search_term, s2),'\\n')\n",
    "print(\"FuzzyWuzzy partial ratio: \", fuzz.partial_ratio(search_term, s2), '\\n\\n') \n",
    "\n"
   ]
  },
  {
   "cell_type": "code",
   "execution_count": null,
   "metadata": {},
   "outputs": [],
   "source": [
    "# NLTK POS sandbox\n",
    "nltk.download('averaged_perceptron_tagger')\n",
    "nltk.download('punkt')\n",
    "\n",
    "# finds all the proper nouns\n",
    "\n",
    "tweet = \"Looking forward to watching Tina Fey and Amy Poehler host the #GoldenGlobes\"\n",
    "text = nltk.word_tokenize(tweet)\n",
    "tagged_text = nltk.pos_tag(text)\n",
    "for token in tagged_text:\n",
    "    if token[1] == \"NNP\":\n",
    "        print(token[0])"
   ]
  },
  {
   "cell_type": "code",
   "execution_count": null,
   "metadata": {},
   "outputs": [],
   "source": [
    "'''Structure of json 2015:\n",
    "{'text', 'timestamp_ms', 'user': {'id', 'screen_name'}, 'id'}\n",
    "Structure of json 2013: (different order than 2015):\n",
    "{'text', 'user': {'screen_name', 'id'}, 'id', 'timestamp_ms'}\n",
    "Structure of json 2020:\n",
    "{'_id': {'$oid'}, 'user_id', 'text', 'created_at', 'user', 'id'}\n",
    "'''"
   ]
  }
 ],
 "metadata": {
  "kernelspec": {
   "display_name": "Python 3",
   "language": "python",
   "name": "python3"
  },
  "language_info": {
   "codemirror_mode": {
    "name": "ipython",
    "version": 3
   },
   "file_extension": ".py",
   "mimetype": "text/x-python",
   "name": "python",
   "nbconvert_exporter": "python",
   "pygments_lexer": "ipython3",
   "version": "3.7.4"
  }
 },
 "nbformat": 4,
 "nbformat_minor": 4
}
