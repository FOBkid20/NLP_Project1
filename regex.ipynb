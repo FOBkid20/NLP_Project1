{
 "cells": [
  {
   "cell_type": "code",
   "execution_count": 2,
   "metadata": {},
   "outputs": [
    {
     "name": "stdout",
     "output_type": "stream",
     "text": [
      " best screenplay - motion picture \n",
      " best director - motion picture \n",
      " best performance by an actress in a television series - comedy or musical \n",
      " best foreign language film \n",
      " best performance by an actor in a supporting role in a motion picture \n",
      " best performance by an actress in a supporting role in a series, mini-series or motion picture made for television \n",
      " best motion picture - comedy or musical \n",
      " best performance by an actress in a motion picture - comedy or musical \n",
      " best mini-series or motion picture made for television \n",
      " best original score - motion picture \n",
      " best performance by an actress in a television series - drama \n",
      " best performance by an actress in a motion picture - drama \n",
      " cecil b. demille award \n",
      " best performance by an actor in a motion picture - comedy or musical \n",
      " best motion picture - drama \n",
      " best performance by an actor in a supporting role in a series, mini-series or motion picture made for television \n",
      " best performance by an actress in a supporting role in a motion picture \n",
      " best television series - drama \n",
      " best performance by an actor in a mini-series or motion picture made for television \n",
      " best performance by an actress in a mini-series or motion picture made for television \n",
      " best animated feature film \n",
      " best original song - motion picture \n",
      " best performance by an actor in a motion picture - drama \n",
      " best television series - comedy or musical \n",
      " best performance by an actor in a television series - drama \n",
      " best performance by an actor in a television series - comedy or musical \n"
     ]
    }
   ],
   "source": [
    "award_names = [' best screenplay - motion picture ',' best director - motion picture ',' best performance by an actress in a television series - comedy or musical ',' best foreign language film ',' best performance by an actor in a supporting role in a motion picture ',' best performance by an actress in a supporting role in a series, mini-series or motion picture made for television ',' best motion picture - comedy or musical ',' best performance by an actress in a motion picture - comedy or musical ',' best mini-series or motion picture made for television ',' best original score - motion picture ',' best performance by an actress in a television series - drama ',' best performance by an actress in a motion picture - drama ',' cecil b. demille award ',' best performance by an actor in a motion picture - comedy or musical ',' best motion picture - drama ',' best performance by an actor in a supporting role in a series, mini-series or motion picture made for television ',' best performance by an actress in a supporting role in a motion picture ',' best television series - drama ',' best performance by an actor in a mini-series or motion picture made for television ',' best performance by an actress in a mini-series or motion picture made for television ',' best animated feature film ',' best original song - motion picture ',' best performance by an actor in a motion picture - drama ',' best television series - comedy or musical ',' best performance by an actor in a television series - drama ',' best performance by an actor in a television series - comedy or musical ']\n",
    "for award in award_names:\n",
    "    print(award)\n",
    "    \n"
   ]
  },
  {
   "cell_type": "code",
   "execution_count": 3,
   "metadata": {},
   "outputs": [
    {
     "ename": "NameError",
     "evalue": "name 'award_dict' is not defined",
     "output_type": "error",
     "traceback": [
      "\u001b[1;31m---------------------------------------------------------------------------\u001b[0m",
      "\u001b[1;31mNameError\u001b[0m                                 Traceback (most recent call last)",
      "\u001b[1;32m<ipython-input-3-f7caf444f0c1>\u001b[0m in \u001b[0;36m<module>\u001b[1;34m\u001b[0m\n\u001b[0;32m      4\u001b[0m \u001b[1;33m\u001b[0m\u001b[0m\n\u001b[0;32m      5\u001b[0m \u001b[1;31m# best screenplay - motion picture\u001b[0m\u001b[1;33m\u001b[0m\u001b[1;33m\u001b[0m\u001b[1;33m\u001b[0m\u001b[0m\n\u001b[1;32m----> 6\u001b[1;33m \u001b[0maward_dict\u001b[0m\u001b[1;33m[\u001b[0m\u001b[0maward_names\u001b[0m\u001b[1;33m[\u001b[0m\u001b[1;36m0\u001b[0m\u001b[1;33m]\u001b[0m\u001b[1;33m]\u001b[0m \u001b[1;33m=\u001b[0m \u001b[1;33m(\u001b[0m\u001b[1;34mr'[Bb]est [Sc]reenplay'\u001b[0m\u001b[1;33m)\u001b[0m\u001b[1;33m\u001b[0m\u001b[1;33m\u001b[0m\u001b[0m\n\u001b[0m\u001b[0;32m      7\u001b[0m \u001b[1;33m\u001b[0m\u001b[0m\n\u001b[0;32m      8\u001b[0m \u001b[1;31m# best director - motion picture\u001b[0m\u001b[1;33m\u001b[0m\u001b[1;33m\u001b[0m\u001b[1;33m\u001b[0m\u001b[0m\n",
      "\u001b[1;31mNameError\u001b[0m: name 'award_dict' is not defined"
     ]
    }
   ],
   "source": [
    "awards_dict = {}\n",
    "\n",
    "# to do: fuzzy search for the award name\n",
    "\n",
    "# best screenplay - motion picture \n",
    "award_dict[award_names[0]] = (r'[Bb]est [Sc]reenplay')\n",
    "\n",
    "# best director - motion picture\n",
    "award_dic[award_names[1]] = (r'[Bb]est [Dd]irector')\n",
    "\n",
    "# best performance by an actress in a television series - comedy or musical \n",
    "award_dic[award_names[2]] = (r'[Bb]est [Pp]erformance .* [Aa]ctress .* [Tt][Vv].* [Mm]usical')\n",
    "\n",
    "# best foreign language film \n",
    "award_dic[award_names[3]] = (r'[Ff]oreign [Ll]anguage [Ff]ilm')\n",
    "\n",
    "# best performance by an actor in a supporting role in a motion picture\n",
    "award_dic[award_names[4]] = (r'[Aa]ctress .* [Ss]upporting [Rr]ole (in a|in) [M]otion')\n",
    "\n",
    "# best performance by an actress in a supporting role in a series, mini-series or motion picture made for television\n",
    "award_dic[award_names[5]] = (r'[Aa]ctress .* [Ss]upporting [Rr]ole .* [Mm]ini-[Ss]eries')\n",
    "\n",
    "# best performance by an actor in a television series - drama\n",
    "award_dict['best performance by an actor in a television series - drama'] = (r'[Bb]est [Aa]ct[oe]r( in a| in)?,? ([Tt][Vv]|[Tt]elevision).*[Dd]rama')\n",
    "\n",
    "# best performance by an actor in a television series - comedy or musical\n",
    "award_dict['best performance by an actor in a television series - comedy or musical'] = (r'[Bb]est [Aa]ct[oe]r( in a| in)?,? ([Tt][Vv]|[Tt]elevision).*[Cc]omedy')\n",
    "\n",
    "# best actor in a TV comedy/musical, Best Actor in a TV Series Comedy or Musical, Best Actor in a TV Series-Comedy or Musical, Best Actor in a Television Series - Comedy or Musical, Best Actor TV Series Comedy, Best Actor TV Comedy, Best Actor, Comedy, Television\n"
   ]
  },
  {
   "cell_type": "code",
   "execution_count": null,
   "metadata": {},
   "outputs": [],
   "source": []
  }
 ],
 "metadata": {
  "kernelspec": {
   "display_name": "Python 3",
   "language": "python",
   "name": "python3"
  },
  "language_info": {
   "codemirror_mode": {
    "name": "ipython",
    "version": 3
   },
   "file_extension": ".py",
   "mimetype": "text/x-python",
   "name": "python",
   "nbconvert_exporter": "python",
   "pygments_lexer": "ipython3",
   "version": "3.7.2"
  }
 },
 "nbformat": 4,
 "nbformat_minor": 4
}
