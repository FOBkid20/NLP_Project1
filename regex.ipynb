{
 "cells": [
  {
   "cell_type": "code",
   "execution_count": 2,
   "metadata": {},
   "outputs": [
    {
     "name": "stdout",
     "output_type": "stream",
     "text": [
      " best screenplay - motion picture \n",
      " best director - motion picture \n",
      " best performance by an actress in a television series - comedy or musical \n",
      " best foreign language film \n",
      " best performance by an actor in a supporting role in a motion picture \n",
      " best performance by an actress in a supporting role in a series, mini-series or motion picture made for television \n",
      " best motion picture - comedy or musical \n",
      " best performance by an actress in a motion picture - comedy or musical \n",
      " best mini-series or motion picture made for television \n",
      " best original score - motion picture \n",
      " best performance by an actress in a television series - drama \n",
      " best performance by an actress in a motion picture - drama \n",
      " cecil b. demille award \n",
      " best performance by an actor in a motion picture - comedy or musical \n",
      " best motion picture - drama \n",
      " best performance by an actor in a supporting role in a series, mini-series or motion picture made for television \n",
      " best performance by an actress in a supporting role in a motion picture \n",
      " best television series - drama \n",
      " best performance by an actor in a mini-series or motion picture made for television \n",
      " best performance by an actress in a mini-series or motion picture made for television \n",
      " best animated feature film \n",
      " best original song - motion picture \n",
      " best performance by an actor in a motion picture - drama \n",
      " best television series - comedy or musical \n",
      " best performance by an actor in a television series - drama \n",
      " best performance by an actor in a television series - comedy or musical \n"
     ]
    }
   ],
   "source": [
    "award_names = [' best screenplay - motion picture ',' best director - motion picture ',' best performance by an actress in a television series - comedy or musical ',' best foreign language film ',' best performance by an actor in a supporting role in a motion picture ',' best performance by an actress in a supporting role in a series, mini-series or motion picture made for television ',' best motion picture - comedy or musical ',' best performance by an actress in a motion picture - comedy or musical ',' best mini-series or motion picture made for television ',' best original score - motion picture ',' best performance by an actress in a television series - drama ',' best performance by an actress in a motion picture - drama ',' cecil b. demille award ',' best performance by an actor in a motion picture - comedy or musical ',' best motion picture - drama ',' best performance by an actor in a supporting role in a series, mini-series or motion picture made for television ',' best performance by an actress in a supporting role in a motion picture ',' best television series - drama ',' best performance by an actor in a mini-series or motion picture made for television ',' best performance by an actress in a mini-series or motion picture made for television ',' best animated feature film ',' best original song - motion picture ',' best performance by an actor in a motion picture - drama ',' best television series - comedy or musical ',' best performance by an actor in a television series - drama ',' best performance by an actor in a television series - comedy or musical ']\n",
    "for award in award_names:\n",
    "    print(award)\n"
   ]
  },
  {
   "cell_type": "code",
   "execution_count": 3,
   "metadata": {},
   "outputs": [],
   "source": [
    "award_dict = {}\n",
    "\n",
    "# to do: fuzzy search for the award name\n",
    "\n",
    "# best screenplay - motion picture \n",
    "award_dict['best screenplay - motion picture'] = (r'[Bb]est [Ss]creenplay')\n",
    "# award_dict['best screenplay - motion picture'] = (r'[Bb]est [Sc]reenplay')\n",
    "\n",
    "# best director - motion picture\n",
    "award_dict['best director - motion picture'] = (r'[Bb]est [Dd]irector')\n",
    "\n",
    "# best performance by an actress in a television series - comedy or musical \n",
    "award_dict['best performance by an actress in a television series - comedy or musical'] = (r'[Bb]est [Pp]erformance .* [Aa]ctress .* [Tt][Vv].* [Mm]usical')\n",
    "\n",
    "# best foreign language film \n",
    "award_dict['best foreign language film'] = (r'[Ff]oreign [Ll]anguage [Ff]ilm')\n",
    "\n",
    "# best performance by an actor in a supporting role in a motion picture\n",
    "# ONLY RETURNS ONE RESULT\n",
    "award_dict['best performance by an actor in a supporting role in a motion picture'] = (r'([Aa]ct[oe]r.*[Ss]upporting|[Ss]upporting [Aa]ct[oe]r) (in a|in) [Mm]otion')\n",
    "\n",
    "# best performance by an actress in a supporting role in a series, mini-series or motion picture made for television\n",
    "award_dict['best performance by an actress in a supporting role in a series, mini-series or motion picture made for television'] = (r'([Ss]upporting.*[Aa]ctress.*[Ss]eries|[Aa]ctress.*[Ss]upporting [Rr]ole.*[Ss]eries)')\n",
    "\n",
    "#best motion picture - comedy or musical \n",
    "award_dict['best motion picture - comedy or musical'] = (r'[Bb]est [Mm]otion [Pp]icture .*[Co]medy .* [Mm]usical')\n",
    "\n",
    "# best performance by an actress in a motion picture - comedy or musical\n",
    "# 5 RESULTS\n",
    "award_dict['best performance by an actress in a motion picture - comedy or musical'] = (r'[Bb]est [Pp]erformance .* [A]ctress [Ii]n [Aa] [Mm]otion [Pp]icture.*[Cc]omedy')\n",
    "\n",
    "# best mini-series or motion picture made for television\n",
    "award_dict['best mini-series or motion picture made for television'] = (r'[Bb]est [Mm]ini.*[Ss]eries .*[Mm]otion [Pp]icture.*([Tt][Vv]|[Tt]elevision)')\n",
    "\n",
    "# best original score - motion picture \n",
    "award_dict['best original score - motion picture '] = (r'[Bb]est [Oo]riginal [Ss]core.*[Mm]otion [Pp]icture')\n",
    "\n",
    "# best performance by an actress in a television series - drama\n",
    "award_dict['best performance by an actress in a television series - drama'] = (r'[Bb]est [Aa]ctress( in a| in)?,? ([Tt][Vv]|[Tt]elevision).*[Dd]rama')\n",
    "\n",
    "# best performance by an actress in a motion picture - drama \n",
    "award_dict['# best performance by an actress in a motion picture - drama'] = (r'[Bb]est [Aa]ctress.*[Mm]otion [Pp]icture.*[Dd]rama')\n",
    "\n",
    "# cecil b. demille award \n",
    "award_dict['cecil b. demille award'] = (r'[Cc]ecil.*[Dd]emille')\n",
    "\n",
    "# best performance by an actor in a motion picture - comedy or musical\n",
    "award_dict['best performance by an actor in a motion picture - comedy or musical'] = (r'[Bb]est [Pp]erformance .* [Aa]ct[oe]r.* [Mm]otion [Pp]icture.*[Cc]omedy')\n",
    "\n",
    "# best performance by an actor in a supporting role in a series, mini-series or motion picture made for television \n",
    "award_dict['best performance by an actor in a supporting role in a series, mini-series or motion picture made for television'] = (r'[Ss]upporting.*[Aa]ct[oe]r.*[Mm]ini')\n",
    "\n",
    "#  best performance by an actress in a supporting role in a motion picture\n",
    "award_dict[' best performance by an actress in a supporting role in a motion picture'] = (r'([Bb]est|[Ll]eading) ([Ss]upporting [Aa]ctress|[Aa]ctress.*[Ss]upporting).*([Mm]otion [Pp]icture|[Ff]ilm)')\n",
    "\n",
    "#  best motion picture - drama \n",
    "award_dict[' best motion picture - drama'] = (r'([Bb]est|[Ll]eading) ((([Mm]otion)?\\s?[Pp]icture|[Ff]ilm).*[Dd]rama|[Dd]rama.*(([Mm]otion)? [Pp]icture|[Ff]ilm))')\n",
    "\n",
    "#  best television series - drama \n",
    "award_dict['best television series - drama'] = (r'([Bb]est|[Ll]eading) (([Tt][Vv]|[Ss]eries).*[Dd]rama|([Tt][Vv]|[Ss]eries)|[Dd]rama [Ss]eries)')\n",
    "\n",
    "# best performance by an actor in a mini-series or motion picture made for television \n",
    "award_dict[' best performance by an actor in a mini-series or motion picture made for television'] = (r'([Bb]est|[Ll]eading) [Aa]ctor.*[Mm]ini')\n",
    "\n",
    "# best performance by an actress in a mini-series or motion picture made for television \n",
    "award_dict['best performance by an actress in a mini-series or motion picture made for television'] = (r'([Bb]est|[Ll]eading) [Aa]ctress.*[Mm]ini')\n",
    "\n",
    "#  best animated feature film \n",
    "award_dict[' best animated feature film'] = (r'[Bb]est [Aa]nimated')\n",
    "\n",
    "#  best original song - motion picture \n",
    "award_dict['best original song - motion picture'] = (r'[Bb]est ([Oo]riginal )?[Ss]ong')\n",
    "\n",
    "# best performance by an actor in a motion picture - drama \n",
    "award_dict[' best performance by an actor in a motion picture - drama '] = (r'[Bb]est [Aa]ct[oe]r.*(([Mm]otion)?\\s?[Pp]icture|[Ff]ilm).*([Dd]rama)?')\n",
    "\n",
    "# best television series - comedy or musical \n",
    "award_dict[' best television series - comedy or musical'] = (r'[Bb]est ([Tt][Vv]|[Tt]elevision).*[Cc]omedy')\n",
    "\n",
    "# best performance by an actor in a television series - drama\n",
    "award_dict['best performance by an actor in a television series - drama'] = (r'[Bb]est [Aa]ct[oe]r( in a| in)?,? ([Tt][Vv]|[Tt]elevision).*[Dd]rama')\n",
    "\n",
    "# best performance by an actor in a television series - comedy or musical\n",
    "award_dict['best performance by an actor in a television series - comedy or musical'] = (r'[Bb]est [Aa]ct[oe]r( in a| in)?,? ([Tt][Vv]|[Tt]elevision).*[Cc]omedy')\n",
    "\n",
    "    "
   ]
  },
  {
   "cell_type": "code",
   "execution_count": 4,
   "metadata": {},
   "outputs": [
    {
     "data": {
      "text/plain": [
       "{'best screenplay - motion picture': '[Bb]est [Ss]creenplay',\n",
       " 'best director - motion picture': '[Bb]est [Dd]irector',\n",
       " 'best performance by an actress in a television series - comedy or musical': '[Bb]est [Pp]erformance .* [Aa]ctress .* [Tt][Vv].* [Mm]usical',\n",
       " 'best foreign language film': '[Ff]oreign [Ll]anguage [Ff]ilm',\n",
       " 'best performance by an actor in a supporting role in a motion picture': '([Aa]ct[oe]r.*[Ss]upporting|[Ss]upporting [Aa]ct[oe]r) (in a|in) [Mm]otion',\n",
       " 'best performance by an actress in a supporting role in a series, mini-series or motion picture made for television': '([Ss]upporting.*[Aa]ctress.*[Ss]eries|[Aa]ctress.*[Ss]upporting [Rr]ole.*[Ss]eries)',\n",
       " 'best motion picture - comedy or musical': '[Bb]est [Mm]otion [Pp]icture .*[Co]medy .* [Mm]usical',\n",
       " 'best performance by an actress in a motion picture - comedy or musical': '[Bb]est [Pp]erformance .* [A]ctress [Ii]n [Aa] [Mm]otion [Pp]icture.*[Cc]omedy',\n",
       " 'best mini-series or motion picture made for television': '[Bb]est [Mm]ini.*[Ss]eries .*[Mm]otion [Pp]icture.*([Tt][Vv]|[Tt]elevision)',\n",
       " 'best original score - motion picture ': '[Bb]est [Oo]riginal [Ss]core.*[Mm]otion [Pp]icture',\n",
       " 'best performance by an actress in a television series - drama': '[Bb]est [Aa]ctress( in a| in)?,? ([Tt][Vv]|[Tt]elevision).*[Dd]rama',\n",
       " '# best performance by an actress in a motion picture - drama': '[Bb]est [Aa]ctress.*[Mm]otion [Pp]icture.*[Dd]rama',\n",
       " 'cecil b. demille award': '[Cc]ecil.*[Dd]emille',\n",
       " 'best performance by an actor in a motion picture - comedy or musical': '[Bb]est [Pp]erformance .* [Aa]ct[oe]r.* [Mm]otion [Pp]icture.*[Cc]omedy',\n",
       " 'best performance by an actor in a supporting role in a series, mini-series or motion picture made for television': '[Ss]upporting.*[Aa]ct[oe]r.*[Mm]ini',\n",
       " ' best performance by an actress in a supporting role in a motion picture': '([Bb]est|[Ll]eading) ([Ss]upporting [Aa]ctress|[Aa]ctress.*[Ss]upporting).*([Mm]otion [Pp]icture|[Ff]ilm)',\n",
       " ' best motion picture - drama': '([Bb]est|[Ll]eading) ((([Mm]otion)?\\\\s?[Pp]icture|[Ff]ilm).*[Dd]rama|[Dd]rama.*(([Mm]otion)? [Pp]icture|[Ff]ilm))',\n",
       " 'best television series - drama': '([Bb]est|[Ll]eading) (([Tt][Vv]|[Ss]eries).*[Dd]rama|([Tt][Vv]|[Ss]eries)|[Dd]rama [Ss]eries)',\n",
       " ' best performance by an actor in a mini-series or motion picture made for television': '([Bb]est|[Ll]eading) [Aa]ctor.*[Mm]ini',\n",
       " 'best performance by an actress in a mini-series or motion picture made for television': '([Bb]est|[Ll]eading) [Aa]ctress.*[Mm]ini',\n",
       " ' best animated feature film': '[Bb]est [Aa]nimated',\n",
       " 'best original song - motion picture': '[Bb]est ([Oo]riginal )?[Ss]ong',\n",
       " ' best performance by an actor in a motion picture - drama ': '[Bb]est [Aa]ct[oe]r.*(([Mm]otion)?\\\\s?[Pp]icture|[Ff]ilm).*([Dd]rama)?',\n",
       " ' best television series - comedy or musical': '[Bb]est ([Tt][Vv]|[Tt]elevision).*[Cc]omedy',\n",
       " 'best performance by an actor in a television series - drama': '[Bb]est [Aa]ct[oe]r( in a| in)?,? ([Tt][Vv]|[Tt]elevision).*[Dd]rama',\n",
       " 'best performance by an actor in a television series - comedy or musical': '[Bb]est [Aa]ct[oe]r( in a| in)?,? ([Tt][Vv]|[Tt]elevision).*[Cc]omedy'}"
      ]
     },
     "execution_count": 4,
     "metadata": {},
     "output_type": "execute_result"
    }
   ],
   "source": [
    "award_dict"
   ]
  },
  {
   "cell_type": "code",
   "execution_count": 5,
   "metadata": {},
   "outputs": [],
   "source": [
    "people_award = {}\n",
    "\n",
    "film_award = {}\n",
    "\n",
    "film_award['best screenplay - motion picture'] = (r'[Bb]est [Ss]creenplay')\n",
    "\n",
    "people_award['best director - motion picture'] = (r'[Bb]est [Dd]irector')\n",
    "\n",
    "people_award['best performance by an actress in a television series - comedy or musical'] = (r'[Bb]est [Pp]erformance .* [Aa]ctress .* [Tt][Vv].* [Mm]usical')\n",
    "\n",
    "film_award['best foreign language film'] = (r'[Ff]oreign [Ll]anguage [Ff]ilm')\n",
    "\n",
    "\n",
    "people_award['best performance by an actor in a supporting role in a motion picture'] = (r'([Aa]ct[oe]r.*[Ss]upporting|[Ss]upporting [Aa]ct[oe]r) (in a|in) [Mm]otion')\n",
    "\n",
    "people_award['best performance by an actress in a supporting role in a series, mini-series or motion picture made for television'] = (r'([Ss]upporting.*[Aa]ctress.*[Ss]eries|[Aa]ctress.*[Ss]upporting [Rr]ole.*[Ss]eries)')\n",
    "\n",
    "film_award['best motion picture - comedy or musical'] = (r'[Bb]est [Mm]otion [Pp]icture .*[Co]medy .* [Mm]usical')\n",
    "\n",
    "people_award['best performance by an actress in a motion picture - comedy or musical'] = (r'[Bb]est [Pp]erformance .* [A]ctress [Ii]n [Aa] [Mm]otion [Pp]icture.*[Cc]omedy')\n",
    "\n",
    "film_award['best mini-series or motion picture made for television'] = (r'[Bb]est [Mm]ini.*[Ss]eries .*[Mm]otion [Pp]icture.*([Tt][Vv]|[Tt]elevision)')\n",
    "\n",
    "film_award['best original score - motion picture '] = (r'[Bb]est [Oo]riginal [Ss]core.*[Mm]otion [Pp]icture')\n",
    "\n",
    "people_award['best performance by an actress in a television series - drama'] = (r'[Bb]est [Aa]ctress( in a| in)?,? ([Tt][Vv]|[Tt]elevision).*[Dd]rama')\n",
    "\n",
    "people_award['# best performance by an actress in a motion picture - drama'] = (r'[Bb]est [Aa]ctress.*[Mm]otion [Pp]icture.*[Dd]rama')\n",
    "\n",
    "people_award['cecil b. demille award'] = (r'[Cc]ecil.*[Dd]emille')\n",
    "\n",
    "people_award['best performance by an actor in a motion picture - comedy or musical'] = (r'[Bb]est [Pp]erformance .* [Aa]ct[oe]r.* [Mm]otion [Pp]icture.*[Cc]omedy')\n",
    "\n",
    "people_award['best performance by an actor in a supporting role in a series, mini-series or motion picture made for television'] = (r'[Ss]upporting.*[Aa]ct[oe]r.*[Mm]ini')\n",
    "\n",
    "people_award[' best performance by an actress in a supporting role in a motion picture'] = (r'([Bb]est|[Ll]eading) ([Ss]upporting [Aa]ctress|[Aa]ctress.*[Ss]upporting).*([Mm]otion [Pp]icture|[Ff]ilm)')\n",
    "\n",
    "film_award[' best motion picture - drama'] = (r'([Bb]est|[Ll]eading) ((([Mm]otion)?\\s?[Pp]icture|[Ff]ilm).*[Dd]rama|[Dd]rama.*(([Mm]otion)? [Pp]icture|[Ff]ilm))')\n",
    "\n",
    "film_award['best television series - drama'] = (r'([Bb]est|[Ll]eading) (([Tt][Vv]|[Ss]eries).*[Dd]rama|([Tt][Vv]|[Ss]eries)|[Dd]rama [Ss]eries)')\n",
    "\n",
    "people_award[' best performance by an actor in a mini-series or motion picture made for television'] = (r'([Bb]est|[Ll]eading) [Aa]ctor.*[Mm]ini')\n",
    "\n",
    "people_award['best performance by an actress in a mini-series or motion picture made for television'] = (r'([Bb]est|[Ll]eading) [Aa]ctress.*[Mm]ini')\n",
    "\n",
    "film_award[' best animated feature film'] = (r'[Bb]est [Aa]nimated')\n",
    "\n",
    "film_award['best original song - motion picture'] = (r'[Bb]est ([Oo]riginal )?[Ss]ong')\n",
    "\n",
    "people_award[' best performance by an actor in a motion picture - drama '] = (r'[Bb]est [Aa]ct[oe]r.*(([Mm]otion)?\\s?[Pp]icture|[Ff]ilm).*([Dd]rama)?')\n",
    "\n",
    "film_award[' best television series - comedy or musical'] = (r'[Bb]est ([Tt][Vv]|[Tt]elevision).*[Cc]omedy')\n",
    "\n",
    "people_award['best performance by an actor in a television series - drama'] = (r'[Bb]est [Aa]ct[oe]r( in a| in)?,? ([Tt][Vv]|[Tt]elevision).*[Dd]rama')\n",
    "\n",
    "people_award['best performance by an actor in a television series - comedy or musical'] = (r'[Bb]est [Aa]ct[oe]r( in a| in)?,? ([Tt][Vv]|[Tt]elevision).*[Cc]omedy')\n"
   ]
  },
  {
   "cell_type": "code",
   "execution_count": 6,
   "metadata": {},
   "outputs": [
    {
     "data": {
      "text/plain": [
       "{'best director - motion picture': '[Bb]est [Dd]irector',\n",
       " 'best performance by an actress in a television series - comedy or musical': '[Bb]est [Pp]erformance .* [Aa]ctress .* [Tt][Vv].* [Mm]usical',\n",
       " 'best performance by an actor in a supporting role in a motion picture': '([Aa]ct[oe]r.*[Ss]upporting|[Ss]upporting [Aa]ct[oe]r) (in a|in) [Mm]otion',\n",
       " 'best performance by an actress in a supporting role in a series, mini-series or motion picture made for television': '([Ss]upporting.*[Aa]ctress.*[Ss]eries|[Aa]ctress.*[Ss]upporting [Rr]ole.*[Ss]eries)',\n",
       " 'best performance by an actress in a motion picture - comedy or musical': '[Bb]est [Pp]erformance .* [A]ctress [Ii]n [Aa] [Mm]otion [Pp]icture.*[Cc]omedy',\n",
       " 'best performance by an actress in a television series - drama': '[Bb]est [Aa]ctress( in a| in)?,? ([Tt][Vv]|[Tt]elevision).*[Dd]rama',\n",
       " '# best performance by an actress in a motion picture - drama': '[Bb]est [Aa]ctress.*[Mm]otion [Pp]icture.*[Dd]rama',\n",
       " 'cecil b. demille award': '[Cc]ecil.*[Dd]emille',\n",
       " 'best performance by an actor in a motion picture - comedy or musical': '[Bb]est [Pp]erformance .* [Aa]ct[oe]r.* [Mm]otion [Pp]icture.*[Cc]omedy',\n",
       " 'best performance by an actor in a supporting role in a series, mini-series or motion picture made for television': '[Ss]upporting.*[Aa]ct[oe]r.*[Mm]ini',\n",
       " ' best performance by an actress in a supporting role in a motion picture': '([Bb]est|[Ll]eading) ([Ss]upporting [Aa]ctress|[Aa]ctress.*[Ss]upporting).*([Mm]otion [Pp]icture|[Ff]ilm)',\n",
       " ' best performance by an actor in a mini-series or motion picture made for television': '([Bb]est|[Ll]eading) [Aa]ctor.*[Mm]ini',\n",
       " 'best performance by an actress in a mini-series or motion picture made for television': '([Bb]est|[Ll]eading) [Aa]ctress.*[Mm]ini',\n",
       " ' best performance by an actor in a motion picture - drama ': '[Bb]est [Aa]ct[oe]r.*(([Mm]otion)?\\\\s?[Pp]icture|[Ff]ilm).*([Dd]rama)?',\n",
       " 'best performance by an actor in a television series - drama': '[Bb]est [Aa]ct[oe]r( in a| in)?,? ([Tt][Vv]|[Tt]elevision).*[Dd]rama',\n",
       " 'best performance by an actor in a television series - comedy or musical': '[Bb]est [Aa]ct[oe]r( in a| in)?,? ([Tt][Vv]|[Tt]elevision).*[Cc]omedy'}"
      ]
     },
     "execution_count": 6,
     "metadata": {},
     "output_type": "execute_result"
    }
   ],
   "source": [
    "people_award"
   ]
  },
  {
   "cell_type": "code",
   "execution_count": 7,
   "metadata": {},
   "outputs": [
    {
     "data": {
      "text/plain": [
       "{'best screenplay - motion picture': '[Bb]est [Ss]creenplay',\n",
       " 'best foreign language film': '[Ff]oreign [Ll]anguage [Ff]ilm',\n",
       " 'best motion picture - comedy or musical': '[Bb]est [Mm]otion [Pp]icture .*[Co]medy .* [Mm]usical',\n",
       " 'best mini-series or motion picture made for television': '[Bb]est [Mm]ini.*[Ss]eries .*[Mm]otion [Pp]icture.*([Tt][Vv]|[Tt]elevision)',\n",
       " 'best original score - motion picture ': '[Bb]est [Oo]riginal [Ss]core.*[Mm]otion [Pp]icture',\n",
       " ' best motion picture - drama': '([Bb]est|[Ll]eading) ((([Mm]otion)?\\\\s?[Pp]icture|[Ff]ilm).*[Dd]rama|[Dd]rama.*(([Mm]otion)? [Pp]icture|[Ff]ilm))',\n",
       " 'best television series - drama': '([Bb]est|[Ll]eading) (([Tt][Vv]|[Ss]eries).*[Dd]rama|([Tt][Vv]|[Ss]eries)|[Dd]rama [Ss]eries)',\n",
       " ' best animated feature film': '[Bb]est [Aa]nimated',\n",
       " 'best original song - motion picture': '[Bb]est ([Oo]riginal )?[Ss]ong',\n",
       " ' best television series - comedy or musical': '[Bb]est ([Tt][Vv]|[Tt]elevision).*[Cc]omedy'}"
      ]
     },
     "execution_count": 7,
     "metadata": {},
     "output_type": "execute_result"
    }
   ],
   "source": [
    "film_award"
   ]
  },
  {
   "cell_type": "code",
   "execution_count": null,
   "metadata": {},
   "outputs": [],
   "source": []
  }
 ],
 "metadata": {
  "kernelspec": {
   "display_name": "Python 3",
   "language": "python",
   "name": "python3"
  },
  "language_info": {
   "codemirror_mode": {
    "name": "ipython",
    "version": 3
   },
   "file_extension": ".py",
   "mimetype": "text/x-python",
   "name": "python",
   "nbconvert_exporter": "python",
   "pygments_lexer": "ipython3",
   "version": "3.6.8"
  }
 },
 "nbformat": 4,
 "nbformat_minor": 4
}
