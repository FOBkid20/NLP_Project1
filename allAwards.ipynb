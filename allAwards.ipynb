{
 "cells": [
  {
   "cell_type": "code",
   "execution_count": 2,
   "metadata": {},
   "outputs": [],
   "source": [
    "import Levenshtein as lev\n",
    "def leven(str1, str2):\n",
    "    Distance = lev.distance(str1.lower(), str2.lower())\n",
    "    Ratio = lev.ratio(str1.lower(), str2.lower())\n",
    "#     print(Ratio)\n",
    "    if Ratio > .95:\n",
    "        return True\n",
    "    else:\n",
    "        return False"
   ]
  },
  {
   "cell_type": "code",
   "execution_count": 3,
   "metadata": {},
   "outputs": [],
   "source": [
    "import re\n",
    "def merge_awards(results):\n",
    "    A = []\n",
    "    B = []\n",
    "    C = []\n",
    "    for i in range(len(results)):\n",
    "        if re.search(\"-\",results[i][0]):\n",
    "            A.append(results[i])\n",
    "        else:\n",
    "            B.append(results[i])\n",
    "    # print(A)\n",
    "    for a in A:\n",
    "        str1 = a[0]\n",
    "        has_merge = False\n",
    "        for b in B:\n",
    "            str2 = b[0]\n",
    "            if leven(str1,str2):\n",
    "                C.append((str1,a[1]+b[1]))\n",
    "#                 print(str1,\"  \",str2)\n",
    "                B.remove(b)\n",
    "                has_merge = True\n",
    "        if not has_merge:\n",
    "            C.append(a)\n",
    "            \n",
    "                \n",
    "    for b in B:\n",
    "        C.append(b)\n",
    "        \n",
    "    return C"
   ]
  },
  {
   "cell_type": "code",
   "execution_count": 4,
   "metadata": {},
   "outputs": [],
   "source": [
    "def filter_awards(results):\n",
    "    awards = []\n",
    "    for result in results:\n",
    "        str1 = result[0]\n",
    "        has_filter = False\n",
    "        if awards:\n",
    "            for award in awards:\n",
    "                str2 = award[0]\n",
    "                if leven(str1,str2):\n",
    "                    has_filter = True\n",
    "                    break\n",
    "            if not has_filter:\n",
    "                awards.append(result)\n",
    "        else:\n",
    "            awards.append(result)\n",
    "    return awards"
   ]
  },
  {
   "cell_type": "code",
   "execution_count": 5,
   "metadata": {},
   "outputs": [],
   "source": [
    "from nltk.corpus import stopwords\n",
    "from nltk.tokenize import word_tokenize\n",
    "import re\n",
    "\n",
    "def award_handler(text): \n",
    "    filter_words = ['django unchained',]\n",
    "\n",
    "def str_handler(text):\n",
    "    size = len(text)\n",
    "    i = size - 1\n",
    "    idx = size\n",
    "    text = text.replace(\",\",\"-\")\n",
    "    \n",
    "    while i >= 0:\n",
    "        if text[i]<='z' and text[i]>='a':\n",
    "            idx = i+1 \n",
    "            break\n",
    "        i -= 1\n",
    "    return text[:idx].strip()       \n",
    "\n",
    "def extract_award(text):\n",
    "    stop_words = set(stopwords.words('english'))\n",
    "    word_tokens = word_tokenize(text)\n",
    "#     filtered_sentence = [w for w in word_tokens if not w in stop_words]\n",
    "    filter_words = ['golden','globes', 'goldenglobe','globes', 'glodenglobes', 'http','2013','2015','2018','2019','2020']\n",
    "    filtered_sentence = []\n",
    "    for w in word_tokens:\n",
    "        if w not in stop_words and w not in filter_words:\n",
    "#             w = w.replace('-',\",\")\n",
    "            w = w.replace('/',\",\")\n",
    "            filtered_sentence.append(w)\n",
    "    result = \"\"\n",
    "    start = False\n",
    "#     print(filtered_sentence)\n",
    "#     if re.search('best screenplay - motion picture',text):\n",
    "#         print(text)\n",
    "        \n",
    "    for word in filtered_sentence:    \n",
    "        if word == 'best':\n",
    "            start = True\n",
    "            result += word + \" \"\n",
    "            continue\n",
    "        \n",
    "        if start and (re.match('w[io]n',word) or re.match('go(es)',word) or re.match('at',word) or re.match('went to',word) or re.match('[;\\?:.!@#`]',word)):\n",
    "            return str_handler(result.strip())\n",
    "\n",
    "        if start:\n",
    "            result += word+\" \"\n",
    "    return str_handler(result.strip())\n",
    "#     print(result)"
   ]
  },
  {
   "cell_type": "code",
   "execution_count": 30,
   "metadata": {},
   "outputs": [],
   "source": [
    "def sanitize(lst):\n",
    "    level0 = ['screenplay','director','foreign','motion','original','television','tv','animated','song']\n",
    "    level1 = ['actor','actress']\n",
    "    level2 = ['supporting','tv','television','motion','series']\n",
    "    level3 = ['motion','tv','television','drama','comedy','musical']\n",
    "    results = []\n",
    "    for r in lst:\n",
    "        text = r[0]\n",
    "        if any([kw in text for kw in level1]):\n",
    "            if any([kw2 in text for kw2 in level2]):\n",
    "                l = []\n",
    "                for kw2 in level2:\n",
    "                    if kw2 in text:\n",
    "                        l.append(kw2)\n",
    "                        break\n",
    "                if any([kw3 in text for kw3 in level3]):\n",
    "                    for kw3 in level3:\n",
    "                        if kw3 in text and kw3 not in l:\n",
    "                            results.append(r)\n",
    "                            break\n",
    "                       \n",
    "        else:\n",
    "            if any([kw in text for kw in level0]):\n",
    "                results.append(r)\n",
    "    return results    \n",
    "        \n",
    "# results = [('best actor in motion tv movie', 18),\n",
    "#  ('best animated feature film', 479),\n",
    "#  ('best performance by an actress in a supporting role in a series, mini-series or motion picture made for television', 461),\n",
    "#  ('best motion picture - comedy musical', 442)]\n",
    "# sanitize(results)"
   ]
  },
  {
   "cell_type": "code",
   "execution_count": 39,
   "metadata": {},
   "outputs": [
    {
     "name": "stdout",
     "output_type": "stream",
     "text": [
      "44\n"
     ]
    },
    {
     "data": {
      "text/plain": [
       "[('best motion picture - drama', 943),\n",
       " ('best animated feature film', 479),\n",
       " ('best foreign language film', 461),\n",
       " ('best motion picture - comedy musical', 442),\n",
       " ('best actor motion picture - drama', 388),\n",
       " ('best tv series - drama', 370),\n",
       " ('best tv comedy- musical', 308),\n",
       " ('best actress motion picture - drama', 301),\n",
       " ('best supporting actress - motion picture', 284),\n",
       " ('best actor tv series - drama', 280),\n",
       " ('best motion picture - musical comedy', 272),\n",
       " ('best actress motion picture - comedy musical', 271),\n",
       " ('best original song - motion picture', 263),\n",
       " ('best tv drama series', 263),\n",
       " ('best supporting actor - motion picture', 232),\n",
       " ('best actor- tv drama', 199),\n",
       " (\"best original song 'glory\", 198),\n",
       " ('best director - motion picture', 194),\n",
       " ('best tv comedy series', 157),\n",
       " ('best film best director awards', 155),\n",
       " ('best actress tv series - drama', 153),\n",
       " ('best actress - tv comedy', 147),\n",
       " (\"best actress - tv drama 'the affair\", 136),\n",
       " ('best mini-series tv movie', 134),\n",
       " ('best animated feature film - train dragon', 129),\n",
       " ('best tv series - comedy musical', 129),\n",
       " ('best actress - comedy series', 129),\n",
       " ('best actress - tv drama', 127),\n",
       " ('best tv movie mini-series', 125),\n",
       " ('best screenplay - motion picture', 124),\n",
       " ('best actress motion picture - musical comedy', 123),\n",
       " ('best actress tv series - musical comedy', 122),\n",
       " ('best tv series - musical comedy', 121),\n",
       " ('best film drama - best director awards', 113),\n",
       " ('best original score - motion picture', 102),\n",
       " ('best miniseries television film - ’ cha know', 87),\n",
       " ('best actor tv drama series', 86),\n",
       " ('best original song selma', 85),\n",
       " ('best actor - tv comedy', 79),\n",
       " ('best actor tv series - musical comedy', 78),\n",
       " ('best tv musical comedy series', 78),\n",
       " ('best actor motion picture - drama theory everything', 65),\n",
       " (\"best actor - tv drama 'house cards\", 60),\n",
       " ('best actor comedy series - dedicates award transgender community', 53)]"
      ]
     },
     "execution_count": 39,
     "metadata": {},
     "output_type": "execute_result"
    }
   ],
   "source": [
    "import json\n",
    "import re\n",
    "import regex\n",
    "from collections import Counter\n",
    "tweets = json.load(open(\"gg2015.json\"))\n",
    "reg = regex.Regex()\n",
    "search_terms = ['best','w[io]n','go(es)? to','went to',':']\n",
    "award_names = []\n",
    "for tweet in tweets:\n",
    "    text = tweet['text'].lower()\n",
    "    if 'RT' not in tweet['text']:\n",
    "        if re.search(search_terms[0],text) and (re.search(search_terms[1],text) or re.search(search_terms[2],text) or re.search(search_terms[3],text) or re.search(search_terms[4],text)):\n",
    "            extract_str = extract_award(text)\n",
    "            if re.search('usa',extract_str):\n",
    "                continue\n",
    "            if re.search('globe',extract_str):\n",
    "                continue\n",
    "            if len(extract_str.split())<4:\n",
    "                continue\n",
    "            count = Counter(extract_str)\n",
    "            if count['-']>1:\n",
    "                continue\n",
    "            award_names.append(extract_str)\n",
    "results = Counter(award_names).most_common()   \n",
    "results = merge_awards(results)\n",
    "# results = Counter(results).most_common() \n",
    "results = sorted(results, key = lambda x: x[1],reverse = True)\n",
    "results\n",
    "results = filter_awards(results)\n",
    "results = sanitize(results[:70])\n",
    "print(len(results))\n",
    "results"
   ]
  },
  {
   "cell_type": "code",
   "execution_count": null,
   "metadata": {},
   "outputs": [],
   "source": []
  },
  {
   "cell_type": "code",
   "execution_count": 28,
   "metadata": {},
   "outputs": [
    {
     "name": "stdout",
     "output_type": "stream",
     "text": [
      "best screenplay - motion picture\n",
      "best director - motion picture\n",
      "best performance by an actress in a television series - comedy or musical\n",
      "best foreign language film\n",
      "best performance by an actor in a supporting role in a motion picture\n",
      "best performance by an actress in a supporting role in a series, mini-series or motion picture made for television\n",
      "best motion picture - comedy or musical\n",
      "best performance by an actress in a motion picture - comedy or musical\n",
      "best mini-series or motion picture made for television\n",
      "best original score - motion picture\n",
      "best performance by an actress in a television series - drama\n",
      "best performance by an actress in a motion picture - drama\n",
      "cecil b. demille award\n",
      "best performance by an actor in a motion picture - comedy or musical\n",
      "best motion picture - drama\n",
      "best performance by an actor in a supporting role in a series, mini-series or motion picture made for television\n",
      "best performance by an actress in a supporting role in a motion picture\n",
      "best television series - drama\n",
      "best performance by an actor in a mini-series or motion picture made for television\n",
      "best performance by an actress in a mini-series or motion picture made for television\n",
      "best animated feature film\n",
      "best original song - motion picture\n",
      "best performance by an actor in a motion picture - drama\n",
      "best television series - comedy or musical\n",
      "best performance by an actor in a television series - drama\n",
      "best performance by an actor in a television series - comedy or musical\n"
     ]
    }
   ],
   "source": [
    "file = json.load(open(\"gg2013answers.json\"))\n",
    "data = file['award_data']\n",
    "for key in data.keys():\n",
    "    print(key)"
   ]
  },
  {
   "cell_type": "code",
   "execution_count": 2,
   "metadata": {},
   "outputs": [],
   "source": [
    "OFFICIAL_AWARDS_1819 = ['best motion picture - drama', 'best motion picture - musical or comedy', 'best performance by an actress in a motion picture - drama', 'best performance by an actor in a motion picture - drama', 'best performance by an actress in a motion picture - musical or comedy', 'best performance by an actor in a motion picture - musical or comedy', 'best performance by an actress in a supporting role in any motion picture', 'best performance by an actor in a supporting role in any motion picture', 'best director - motion picture', 'best screenplay - motion picture', 'best motion picture - animated', 'best motion picture - foreign language', 'best original score - motion picture', 'best original song - motion picture', 'best television series - drama', 'best television series - musical or comedy', 'best television limited series or motion picture made for television', 'best performance by an actress in a limited series or a motion picture made for television', 'best performance by an actor in a limited series or a motion picture made for television', 'best performance by an actress in a television series - drama', 'best performance by an actor in a television series - drama', 'best performance by an actress in a television series - musical or comedy', 'best performance by an actor in a television series - musical or comedy', 'best performance by an actress in a supporting role in a series, limited series or motion picture made for television', 'best performance by an actor in a supporting role in a series, limited series or motion picture made for television', 'cecil b. demille award']"
   ]
  },
  {
   "cell_type": "code",
   "execution_count": 3,
   "metadata": {},
   "outputs": [
    {
     "data": {
      "text/plain": [
       "['best motion picture - drama',\n",
       " 'best motion picture - musical or comedy',\n",
       " 'best performance by an actress in a motion picture - drama',\n",
       " 'best performance by an actor in a motion picture - drama',\n",
       " 'best performance by an actress in a motion picture - musical or comedy',\n",
       " 'best performance by an actor in a motion picture - musical or comedy',\n",
       " 'best performance by an actress in a supporting role in any motion picture',\n",
       " 'best performance by an actor in a supporting role in any motion picture',\n",
       " 'best director - motion picture',\n",
       " 'best screenplay - motion picture',\n",
       " 'best motion picture - animated',\n",
       " 'best motion picture - foreign language',\n",
       " 'best original score - motion picture',\n",
       " 'best original song - motion picture',\n",
       " 'best television series - drama',\n",
       " 'best television series - musical or comedy',\n",
       " 'best television limited series or motion picture made for television',\n",
       " 'best performance by an actress in a limited series or a motion picture made for television',\n",
       " 'best performance by an actor in a limited series or a motion picture made for television',\n",
       " 'best performance by an actress in a television series - drama',\n",
       " 'best performance by an actor in a television series - drama',\n",
       " 'best performance by an actress in a television series - musical or comedy',\n",
       " 'best performance by an actor in a television series - musical or comedy',\n",
       " 'best performance by an actress in a supporting role in a series, limited series or motion picture made for television',\n",
       " 'best performance by an actor in a supporting role in a series, limited series or motion picture made for television',\n",
       " 'cecil b. demille award']"
      ]
     },
     "execution_count": 3,
     "metadata": {},
     "output_type": "execute_result"
    }
   ],
   "source": [
    "OFFICIAL_AWARDS_1819"
   ]
  },
  {
   "cell_type": "code",
   "execution_count": 4,
   "metadata": {},
   "outputs": [
    {
     "data": {
      "text/plain": [
       "26"
      ]
     },
     "execution_count": 4,
     "metadata": {},
     "output_type": "execute_result"
    }
   ],
   "source": [
    "len(OFFICIAL_AWARDS_1819)"
   ]
  },
  {
   "cell_type": "code",
   "execution_count": null,
   "metadata": {},
   "outputs": [],
   "source": []
  }
 ],
 "metadata": {
  "kernelspec": {
   "display_name": "Python 3",
   "language": "python",
   "name": "python3"
  },
  "language_info": {
   "codemirror_mode": {
    "name": "ipython",
    "version": 3
   },
   "file_extension": ".py",
   "mimetype": "text/x-python",
   "name": "python",
   "nbconvert_exporter": "python",
   "pygments_lexer": "ipython3",
   "version": "3.7.2"
  }
 },
 "nbformat": 4,
 "nbformat_minor": 4
}
