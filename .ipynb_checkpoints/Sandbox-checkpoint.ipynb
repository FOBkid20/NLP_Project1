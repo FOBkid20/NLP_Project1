{
 "cells": [
  {
   "cell_type": "code",
   "execution_count": null,
   "metadata": {},
   "outputs": [],
   "source": [
    "import json\n",
    "file = 'gg2015.json'\n",
    "data = json.load(open(file))"
   ]
  },
  {
   "cell_type": "code",
   "execution_count": null,
   "metadata": {},
   "outputs": [],
   "source": [
    "search_terms = [\"goldenglobes\"]"
   ]
  },
  {
   "cell_type": "code",
   "execution_count": null,
   "metadata": {},
   "outputs": [],
   "source": [
    "import Levenshtein as lev\n",
    "def leven(str1, str2):\n",
    "    Distance = lev.distance(str1.lower(), str2.lower())\n",
    "    Ratio = lev.ratio(str1.lower(), str2.lower())\n",
    "    if Ratio > .8:\n",
    "        return True\n",
    "    else:\n",
    "        return False"
   ]
  },
  {
   "cell_type": "code",
   "execution_count": null,
   "metadata": {},
   "outputs": [],
   "source": []
  },
  {
   "cell_type": "code",
   "execution_count": null,
   "metadata": {
    "scrolled": true
   },
   "outputs": [],
   "source": [
    "import datetime\n",
    "for x in data:\n",
    "    tweet = x[\"text\"]\n",
    "    screenname = x[\"user\"][\"screen_name\"]\n",
    "    for search_term in search_terms:\n",
    "        #print(screenname)\n",
    "        if screenname.find(search_term) != -1:\n",
    "            #print(search_term)\n",
    "            print(x)\n",
    "            timestampms = x['timestamp_ms']\n",
    "            date = datetime.datetime.fromtimestamp(int(timestampms) / 1000.0)\n",
    "            date = date.strftime('%Y-%m-%d %H:%M:%S')\n",
    "            print(date)\n",
    "            print()\n",
    "            break"
   ]
  },
  {
   "cell_type": "code",
   "execution_count": null,
   "metadata": {},
   "outputs": [],
   "source": [
    "'''Structure of json:\n",
    "{'text', 'timestamp_ms', 'user': {'id', 'screen_name'}, 'id'}\n",
    "'''"
   ]
  }
 ],
 "metadata": {
  "kernelspec": {
   "display_name": "Python 3",
   "language": "python",
   "name": "python3"
  },
  "language_info": {
   "codemirror_mode": {
    "name": "ipython",
    "version": 3
   },
   "file_extension": ".py",
   "mimetype": "text/x-python",
   "name": "python",
   "nbconvert_exporter": "python",
   "pygments_lexer": "ipython3",
   "version": "3.6.8"
  }
 },
 "nbformat": 4,
 "nbformat_minor": 4
}
