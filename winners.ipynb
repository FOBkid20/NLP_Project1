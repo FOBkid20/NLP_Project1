{
 "cells": [
  {
   "cell_type": "code",
   "execution_count": null,
   "metadata": {},
   "outputs": [],
   "source": [
    "import datetime\n",
    "def getDate(timestamp):\n",
    "    date = datetime.datetime.fromtimestamp(int(timestamp) / 1000.0)\n",
    "    date = date.strftime('%Y-%m-%d %H:%M:%S')\n",
    "    return date\n",
    "\n",
    "def getTime(date):\n",
    "    A = date.split()[1]\n",
    "    A = A.split(\":\")[0]\n",
    "    return A"
   ]
  },
  {
   "cell_type": "code",
   "execution_count": null,
   "metadata": {},
   "outputs": [],
   "source": [
    "import string\n",
    "import json\n",
    "import nltk;\n",
    "\n",
    "import spacy\n",
    "nlp = spacy.load('en')"
   ]
  },
  {
   "cell_type": "code",
   "execution_count": null,
   "metadata": {},
   "outputs": [],
   "source": [
    "from nltk.corpus import stopwords \n",
    "from nltk.tokenize import word_tokenize \n",
    "# nltk.download('punkt')\n",
    "\n",
    "stop_words = set(stopwords.words('english')) "
   ]
  },
  {
   "cell_type": "code",
   "execution_count": null,
   "metadata": {},
   "outputs": [],
   "source": [
    "\n",
    "tweets = json.load(open(\"gg2013.json\"))"
   ]
  },
  {
   "cell_type": "code",
   "execution_count": null,
   "metadata": {},
   "outputs": [],
   "source": [
    "import re\n",
    "\n",
    "gg_stop_words = ['Globe', 'RT', 'http', 'Golden', 'Globes', 'GoldenGlobes', 'Goldenglobes', 'Goldenglobe', 'gg','golden globes', 'golden globe', 'goldenglobe','goldenglobes','gg2015','gg15','goldenglobe2015','goldenglobe15','goldenglobes2015','goldenglobes15', 'gg2013','gg13','goldenglobe2013','goldenglobe13','goldenglobes2013','goldenglobes13', 'rt', '2013', '2015', '...', '`']\n",
    "\n",
    "gg_stop_words.extend(stop_words)\n",
    "\n",
    "clean_tweets = []\n",
    "\n",
    "for tweet in tweets:\n",
    "    text = tweet['text']\n",
    "    text_tokens = word_tokenize(text)\n",
    "    t = []\n",
    "    sent = ''\n",
    "    for w in text_tokens:\n",
    "        if w not in gg_stop_words:\n",
    "            if w not in string.punctuation: \n",
    "                t.append(w)\n",
    "    for i in range(len(t)): \n",
    "        sent += t[i] + ' '\n",
    "    clean_tweets.append(sent)\n",
    "\n"
   ]
  },
  {
   "cell_type": "code",
   "execution_count": null,
   "metadata": {},
   "outputs": [],
   "source": [
    "clean_tweets"
   ]
  },
  {
   "cell_type": "code",
   "execution_count": null,
   "metadata": {},
   "outputs": [],
   "source": [
    "print(string.punctuation)"
   ]
  },
  {
   "cell_type": "code",
   "execution_count": null,
   "metadata": {},
   "outputs": [],
   "source": [
    "import nltk;\n",
    "\n",
    "import spacy\n",
    "nlp = spacy.load('en') "
   ]
  },
  {
   "cell_type": "code",
   "execution_count": null,
   "metadata": {},
   "outputs": [],
   "source": []
  },
  {
   "cell_type": "code",
   "execution_count": null,
   "metadata": {},
   "outputs": [],
   "source": [
    "def get_winner(award_name):\n",
    "    \n",
    "    search_term = award_name.lower()\n",
    "    \n",
    "#     if award_name in people_award.keys():\n",
    "#         search_term = people_award.get(award_name)\n",
    "#     else:\n",
    "#         search_term = film_award.get(award_name)\n",
    "#     print(search_term)\n",
    "    \n",
    "    relevant_tweets = []\n",
    "    for t in clean_tweets:\n",
    "        text = t.lower()\n",
    "        if re.search(search_term, text) and 'RT' not in text:\n",
    "            relevant_tweets.append(text) \n",
    "            \n",
    "    possible_answer = []\n",
    "            \n",
    "    for t in relevant_tweets:\n",
    "        for w in t:\n",
    "            \n",
    "        text = t.lower()\n",
    "        tokenized_t = text.split()\n",
    "        if 'wins' in tokenized_t:\n",
    "            index = tokenized_t.index('wins')\n",
    "            before_win = []\n",
    "            string = tokenized_t[0]\n",
    "            for i in range(1, index): \n",
    "                string += ' ' + tokenized_t[i]\n",
    "            before_win.append(string)\n",
    "            for s in before_win:\n",
    "                names = [ee for ee in nlp(s).ents if ee.label_ == 'PERSON']\n",
    "                print(names)\n",
    "                print('???????')\n",
    "                possible_answer.append(names)\n",
    "        if 'goes to' in text:\n",
    "            index = text.find('goes to')\n",
    "            substring_index = index + 7\n",
    "            substring = text[substring_index:]\n",
    "            for w in substring:\n",
    "                names = [ee for ee in nlp(w).ents if ee.label_ == 'PERSON']\n",
    "                possible_answer.append(names)\n",
    "            \n",
    "            \n",
    "#     name_pair = []\n",
    "#     for possible_name_pair in possible_answer:\n",
    "#         if nltk.pos_tag(possible_name_pair)[0] == 'NNP' and nltk.pos_tag(possible_name_pair)[1] == 'NNP':\n",
    "#             name_pair.append(possible_name_pair)\n",
    "        \n",
    "    \n",
    "#     print(possible_answer)\n",
    "    #return relevant_tweets"
   ]
  },
  {
   "cell_type": "code",
   "execution_count": null,
   "metadata": {
    "scrolled": true
   },
   "outputs": [],
   "source": [
    "get_winner('Best Supporting Actor in a Motion Picture')"
   ]
  },
  {
   "cell_type": "code",
   "execution_count": null,
   "metadata": {},
   "outputs": [],
   "source": [
    "for t in tweets:\n",
    "    if 'wins' in t['text'].lower():\n",
    "        print(t['text'])"
   ]
  },
  {
   "cell_type": "code",
   "execution_count": null,
   "metadata": {},
   "outputs": [],
   "source": [
    "import spacy\n",
    "en = spacy.load('en')\n",
    "\n",
    "sents = en(open('input.txt').read())\n",
    "people = [ee for ee in sents.ents if ee.label_ == 'PERSON']"
   ]
  },
  {
   "cell_type": "code",
   "execution_count": null,
   "metadata": {},
   "outputs": [],
   "source": [
    "'Best performance by an actor in a supporting role goes to.....Christoph Wal'.find('goes to')\n",
    "len('Best performance by an actor in a supporting role goes to.....Christoph Wal') - 50\n",
    "'Best performance by an actor in a supporting role goes to.....Christoph Wal'[57:]"
   ]
  },
  {
   "cell_type": "code",
   "execution_count": null,
   "metadata": {},
   "outputs": [],
   "source": [
    "for s in ['my name is Christoph Waltz']:\n",
    "    print(nlp(s))\n",
    "    names = [ee for ee in nlp(s).ents if ee.label_ == 'PERSON']\n",
    "    print(names)"
   ]
  },
  {
   "cell_type": "code",
   "execution_count": null,
   "metadata": {},
   "outputs": [],
   "source": [
    "import pprint\n",
    "import spacy\n",
    "from spacy import displacy\n",
    "from collections import Counter\n",
    "import en_core_web_sm\n",
    "nlp = en_core_web_sm.load()\n",
    "\n",
    "doc = nlp('European authorities fined Google a record $5.1 billion on Wednesday for abusing its power in the mobile phone market and ordered the company to alter its practices')\n",
    "pprint([(X, X.ent_iob_, X.ent_type_) for X in doc])"
   ]
  },
  {
   "cell_type": "code",
   "execution_count": null,
   "metadata": {},
   "outputs": [],
   "source": [
    "def get_names(text):\n",
    "    article = nlp(text)\n",
    "    labels = [x.label_ for x in article.ents]\n",
    "    [(x.orth_,x.pos_, x.lemma_) for x in [y \n",
    "                                      for y\n",
    "                                      in nlp(text) \n",
    "                                      if not y.is_stop and y.pos_ != 'PUNCT']]\n",
    "    parts_of_speech = dict([(str(x), x.label_) for x in nlp(text).ents])\n",
    "    names = []\n",
    "    for (key, value) in parts_of_speech.items() :\n",
    "        if(value == \"PERSON\") :\n",
    "            names.append(key)\n",
    "    return names"
   ]
  },
  {
   "cell_type": "code",
   "execution_count": null,
   "metadata": {},
   "outputs": [],
   "source": [
    "people_award = {}\n",
    "\n",
    "film_award = {}\n",
    "\n",
    "film_award['best screenplay - motion picture'] = (r'[Bb]est [Ss]creenplay')\n",
    "\n",
    "people_award['best director - motion picture'] = (r'[Bb]est [Dd]irector')\n",
    "\n",
    "people_award['best performance by an actress in a television series - comedy or musical'] = (r'[Bb]est [Pp]erformance .* [Aa]ctress .* [Tt][Vv].* [Mm]usical')\n",
    "\n",
    "film_award['best foreign language film'] = (r'[Ff]oreign [Ll]anguage [Ff]ilm')\n",
    "\n",
    "\n",
    "people_award['best performance by an actor in a supporting role in a motion picture'] = (r'([Aa]ct[oe]r.*[Ss]upporting|[Ss]upporting [Aa]ct[oe]r) (in a|in) [Mm]otion')\n",
    "\n",
    "people_award['best performance by an actress in a supporting role in a series, mini-series or motion picture made for television'] = (r'([Ss]upporting.*[Aa]ctress.*[Ss]eries|[Aa]ctress.*[Ss]upporting [Rr]ole.*[Ss]eries)')\n",
    "\n",
    "film_award['best motion picture - comedy or musical'] = (r'[Bb]est [Mm]otion [Pp]icture .*[Co]medy .* [Mm]usical')\n",
    "\n",
    "people_award['best performance by an actress in a motion picture - comedy or musical'] = (r'[Bb]est [Pp]erformance .* [A]ctress [Ii]n [Aa] [Mm]otion [Pp]icture.*[Cc]omedy')\n",
    "\n",
    "film_award['best mini-series or motion picture made for television'] = (r'[Bb]est [Mm]ini.*[Ss]eries .*[Mm]otion [Pp]icture.*([Tt][Vv]|[Tt]elevision)')\n",
    "\n",
    "film_award['best original score - motion picture '] = (r'[Bb]est [Oo]riginal [Ss]core.*[Mm]otion [Pp]icture')\n",
    "\n",
    "people_award['best performance by an actress in a television series - drama'] = (r'[Bb]est [Aa]ctress( in a| in)?,? ([Tt][Vv]|[Tt]elevision).*[Dd]rama')\n",
    "\n",
    "people_award['# best performance by an actress in a motion picture - drama'] = (r'[Bb]est [Aa]ctress.*[Mm]otion [Pp]icture.*[Dd]rama')\n",
    "\n",
    "people_award['cecil b. demille award'] = (r'[Cc]ecil.*[Dd]emille')\n",
    "\n",
    "people_award['best performance by an actor in a motion picture - comedy or musical'] = (r'[Bb]est [Pp]erformance .* [Aa]ct[oe]r.* [Mm]otion [Pp]icture.*[Cc]omedy')\n",
    "\n",
    "people_award['best performance by an actor in a supporting role in a series, mini-series or motion picture made for television'] = (r'[Ss]upporting.*[Aa]ct[oe]r.*[Mm]ini')\n",
    "\n",
    "people_award[' best performance by an actress in a supporting role in a motion picture'] = (r'([Bb]est|[Ll]eading) ([Ss]upporting [Aa]ctress|[Aa]ctress.*[Ss]upporting).*([Mm]otion [Pp]icture|[Ff]ilm)')\n",
    "\n",
    "film_award[' best motion picture - drama'] = (r'([Bb]est|[Ll]eading) ((([Mm]otion)?\\s?[Pp]icture|[Ff]ilm).*[Dd]rama|[Dd]rama.*(([Mm]otion)? [Pp]icture|[Ff]ilm))')\n",
    "\n",
    "film_award['best television series - drama'] = (r'([Bb]est|[Ll]eading) (([Tt][Vv]|[Ss]eries).*[Dd]rama|([Tt][Vv]|[Ss]eries)|[Dd]rama [Ss]eries)')\n",
    "\n",
    "people_award[' best performance by an actor in a mini-series or motion picture made for television'] = (r'([Bb]est|[Ll]eading) [Aa]ctor.*[Mm]ini')\n",
    "\n",
    "people_award['best performance by an actress in a mini-series or motion picture made for television'] = (r'([Bb]est|[Ll]eading) [Aa]ctress.*[Mm]ini')\n",
    "\n",
    "film_award[' best animated feature film'] = (r'[Bb]est [Aa]nimated')\n",
    "\n",
    "film_award['best original song - motion picture'] = (r'[Bb]est ([Oo]riginal )?[Ss]ong')\n",
    "\n",
    "people_award[' best performance by an actor in a motion picture - drama '] = (r'[Bb]est [Aa]ct[oe]r.*(([Mm]otion)?\\s?[Pp]icture|[Ff]ilm).*([Dd]rama)?')\n",
    "\n",
    "film_award[' best television series - comedy or musical'] = (r'[Bb]est ([Tt][Vv]|[Tt]elevision).*[Cc]omedy')\n",
    "\n",
    "people_award['best performance by an actor in a television series - drama'] = (r'[Bb]est [Aa]ct[oe]r( in a| in)?,? ([Tt][Vv]|[Tt]elevision).*[Dd]rama')\n",
    "\n",
    "people_award['best performance by an actor in a television series - comedy or musical'] = (r'[Bb]est [Aa]ct[oe]r( in a| in)?,? ([Tt][Vv]|[Tt]elevision).*[Cc]omedy')"
   ]
  },
  {
   "cell_type": "code",
   "execution_count": null,
   "metadata": {},
   "outputs": [],
   "source": [
    "import operator\n",
    "\n",
    "def get_winner(award_name):\n",
    "    \n",
    "    search_term = award_name\n",
    "    if award_name in people_award.keys():\n",
    "        search_term = people_award.get(award_name)\n",
    "    elif award_name in film_award.keys():\n",
    "        search_term = film_award.get(award_name)\n",
    "    \n",
    "    revelant_tweets = []\n",
    "    for tweet in clean_tweets: \n",
    "        if re.search(search_term, tweet):\n",
    "            revelant_tweets.append(tweet)  \n",
    "        \n",
    "    name_count = {}\n",
    "\n",
    "    for tweet in revelant_tweets: \n",
    "        names = get_names(tweet)\n",
    "        for name in names :\n",
    "            if name.lower() in [\"goldenglobes\", \"goldenglobe\", \"golden\", \"globes\", \"golden globes\", \"golden globe\"]:\n",
    "                continue\n",
    "            if name in name_count :\n",
    "                name_count[name] = name_count[name] + 1\n",
    "            else:\n",
    "                name_count[name] = 1\n",
    "        max_count_name = max(name_count.items(), key=operator.itemgetter(1))[0]\n",
    "\n",
    "\n",
    "    return max_count_name"
   ]
  },
  {
   "cell_type": "code",
   "execution_count": 86,
   "metadata": {},
   "outputs": [
    {
     "data": {
      "text/plain": [
       "'Ben Affleck'"
      ]
     },
     "execution_count": 86,
     "metadata": {},
     "output_type": "execute_result"
    }
   ],
   "source": [
    "get_winner('best director - motion picture')"
   ]
  },
  {
   "cell_type": "code",
   "execution_count": null,
   "metadata": {},
   "outputs": [],
   "source": []
  }
 ],
 "metadata": {
  "kernelspec": {
   "display_name": "Python 3",
   "language": "python",
   "name": "python3"
  },
  "language_info": {
   "codemirror_mode": {
    "name": "ipython",
    "version": 3
   },
   "file_extension": ".py",
   "mimetype": "text/x-python",
   "name": "python",
   "nbconvert_exporter": "python",
   "pygments_lexer": "ipython3",
   "version": "3.6.8"
  }
 },
 "nbformat": 4,
 "nbformat_minor": 4
}
