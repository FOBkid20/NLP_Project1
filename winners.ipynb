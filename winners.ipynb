{
 "cells": [
  {
   "cell_type": "code",
   "execution_count": 46,
   "metadata": {},
   "outputs": [],
   "source": []
  },
  {
   "cell_type": "code",
   "execution_count": 23,
   "metadata": {},
   "outputs": [],
   "source": [
    "import string\n",
    "import json\n",
    "import nltk;\n",
    "\n",
    "import spacy\n",
    "nlp = spacy.load('en')"
   ]
  },
  {
   "cell_type": "code",
   "execution_count": 24,
   "metadata": {},
   "outputs": [],
   "source": [
    "from nltk.corpus import stopwords \n",
    "from nltk.tokenize import word_tokenize \n",
    "# nltk.download('punkt')\n",
    "\n",
    "stop_words = set(stopwords.words('english')) "
   ]
  },
  {
   "cell_type": "code",
   "execution_count": 25,
   "metadata": {},
   "outputs": [],
   "source": [
    "\n",
    "tweets = json.load(open(\"gg2015.json\"))"
   ]
  },
  {
   "cell_type": "code",
   "execution_count": 26,
   "metadata": {},
   "outputs": [],
   "source": [
    "from nltk.corpus import stopwords\n",
    "from nltk.tokenize import word_tokenize\n",
    "import re\n",
    "\n",
    "def find_before(text):\n",
    "    for i in range(len(text)):\n",
    "#         print(text[i])\n",
    "        if re.match('w[io]n?',text[i]):\n",
    "            return text[i-2]+\" \"+text[i-1]\n",
    "    \n",
    "def find_after(text):\n",
    "    for i in range(len(text)):\n",
    "#         print(text[i])\n",
    "        if text[i]=='goes':\n",
    "            result = text[i+1]\n",
    "            if i+2<len(text):\n",
    "                result = result + \" \" + text[i+2]\n",
    "            return result\n",
    "\n",
    "        if text[i]==':':\n",
    "            result = \"\"\n",
    "            if i+1<len(text):\n",
    "                result = text[i+1]\n",
    "            if i+2<len(text):\n",
    "                result = result +\" \"+ text[i+2]\n",
    "            return result\n",
    "\n",
    "def extract_award(text):\n",
    "    stop_words = set(stopwords.words('english'))\n",
    "    word_tokens = word_tokenize(text)\n",
    "#     filtered_sentence = [w for w in word_tokens if not w in stop_words]\n",
    "    gg_stop_words = ['Globe', 'RT', 'http', 'Golden', 'Globes', 'GoldenGlobes', 'Goldenglobes', 'Goldenglobe', 'gg','golden globes', 'golden globe', 'goldenglobe','goldenglobes','gg2015','gg15','goldenglobe2015','goldenglobe15','goldenglobes2015','goldenglobes15', 'gg2013','gg13','goldenglobe2013','goldenglobe13','goldenglobes2013','goldenglobes13', 'rt', '2013', '2015', '...', '`', 'MTVNews']\n",
    "    filtered_sentence = []\n",
    "    for w in word_tokens:\n",
    "        if w not in stop_words and w not in gg_stop_words:\n",
    "#             w = w.replace('-',\",\")\n",
    "            w = w.replace('/',\",\")\n",
    "            filtered_sentence.append(w)\n",
    "    result = \"\"\n",
    "    for i in range(len(filtered_sentence)):\n",
    "#         print(filtered_sentence[i])\n",
    "        if re.match('goes',filtered_sentence[i]):\n",
    "#             print('match goes to')\n",
    "            return find_after(filtered_sentence)\n",
    "\n",
    "        if re.match('win',filtered_sentence[i]):\n",
    "            return find_before(filtered_sentence)\n",
    "#             print('match win')\n",
    "        if re.match(':', filtered_sentence[i]):\n",
    "            return find_after(filtered_sentence)\n",
    "#             print('match :')\n",
    "    \n",
    "    return \"\"\n",
    "# text = 'Best Actress (Motion Picture - Drama) goes to Jessica Chastain for #ZeroDarkThirty! #GoldenGlobes'\n",
    "# text = 'best supporting actor goes to christoph waltz in a motion picture for django unchained #goldenglobes'\n",
    "# print(r)\n",
    "# result = extract_award(text)\n",
    "# print('result:',result)"
   ]
  },
  {
   "cell_type": "code",
   "execution_count": 27,
   "metadata": {},
   "outputs": [],
   "source": [
    "import string\n",
    "import json\n",
    "import nltk;\n",
    "import spacy\n",
    "nlp = spacy.load('en')\n",
    "\n",
    "def get_names(text):\n",
    "    article = nlp(text)\n",
    "    labels = [x.label_ for x in article.ents]\n",
    "    [(x.orth_,x.pos_, x.lemma_) for x in [y \n",
    "                                      for y\n",
    "                                      in nlp(text) \n",
    "                                      if not y.is_stop and y.pos_ != 'PUNCT']]\n",
    "    parts_of_speech = dict([(str(x), x.label_) for x in nlp(text).ents])\n",
    "    names = []\n",
    "    for (key, value) in parts_of_speech.items() :\n",
    "        if(value == \"PERSON\") :\n",
    "            names.append(key)\n",
    "    return names"
   ]
  },
  {
   "cell_type": "code",
   "execution_count": 28,
   "metadata": {},
   "outputs": [],
   "source": [
    "import Levenshtein as lev\n",
    "def leven(str1, str2):\n",
    "    Distance = lev.distance(str1.lower(), str2.lower())\n",
    "    Ratio = lev.ratio(str1.lower(), str2.lower())\n",
    "#     print(Ratio)\n",
    "    if Ratio > .95:\n",
    "        return True\n",
    "    else:\n",
    "        return False"
   ]
  },
  {
   "cell_type": "code",
   "execution_count": 29,
   "metadata": {},
   "outputs": [],
   "source": [
    "import imdb\n",
    "ia = imdb.IMDb()\n",
    "def validate_name(name):\n",
    "    people = ia.search_person(name)\n",
    "    for p in people:\n",
    "        str1 = p['name']\n",
    "        str2 = name\n",
    "        if leven(str1,str2):\n",
    "            return True\n",
    "    return False\n",
    "# validate_name(\"kevin costner\")\n"
   ]
  },
  {
   "cell_type": "code",
   "execution_count": 30,
   "metadata": {},
   "outputs": [
    {
     "name": "stdout",
     "output_type": "stream",
     "text": [
      "cecil b. demille award George Clooney\n",
      "best performance by an actress in a motion picture - drama Julianne Moore\n",
      "best performance by an actor in a motion picture - drama Eddie Redmayne\n",
      "best performance by an actress in a motion picture - comedy or musical Amy Adams\n",
      "best performance by an actor in a motion picture - comedy or musical Michael Keaton\n",
      "best performance by an actress in a supporting role in a motion picture Patricia Arquette\n",
      "best performance by an actor in a supporting role in a motion picture J.K. Simmons\n",
      "best director - motion picture Richard Linklater\n",
      "best performance by an actress in a television series - drama Ruth Wilson\n",
      "best performance by an actor in a television series - drama Kevin Spacey\n",
      "best performance by an actress in a television series - comedy or musical Gina Rodriguez\n",
      "best performance by an actor in a television series - comedy or musical Jeffrey Tambor\n",
      "best performance by an actress in a mini-series or motion picture made for television Maggie Gyllenhaal\n",
      "best performance by an actor in a mini-series or motion picture made for television Billy Bob\n",
      "best performance by an actress in a supporting role in a series, mini-series or motion picture made for television Joanne Froggatt\n",
      "best performance by an actor in a supporting role in a series, mini-series or motion picture made for television Matt Bomer\n"
     ]
    }
   ],
   "source": [
    "import regex\n",
    "import json\n",
    "import re\n",
    "import regex\n",
    "from collections import Counter\n",
    "reg = regex.Regex()\n",
    "results={}\n",
    "for movie in reg.award_names:\n",
    "#     print(movie)\n",
    "    if movie in reg.people_award:\n",
    "#         if movie != 'best performance by an actor in a supporting role in a motion picture':\n",
    "#             continue\n",
    "        search_term = reg.getRegex(movie)\n",
    "        \n",
    "        word_size = 2\n",
    "#         print(search_term)\n",
    "        result = []\n",
    "        for tweet in tweets:  \n",
    "            text = tweet['text']\n",
    "            if 'RT' not in tweet['text']:\n",
    "#                 text = text.lower()\n",
    "                if re.search(search_term, text):\n",
    "#                     print(text)\n",
    "                    winner = extract_award(text)\n",
    "                    if winner:\n",
    "                        result.append(winner)\n",
    "#                         print(winner)\n",
    "        \n",
    "#         print(Counter(result).most_common())\n",
    "        name = \"\"\n",
    "        for res in Counter(result).most_common():\n",
    "            name = res[0]\n",
    "            if get_names(name) or validate_name(name):\n",
    "                break\n",
    "        results[movie] = name\n",
    "            \n",
    "for key in results.keys():\n",
    "    print(key,results[key])\n",
    "# Counter(result).most_common()    \n",
    "   "
   ]
  },
  {
   "cell_type": "code",
   "execution_count": null,
   "metadata": {},
   "outputs": [],
   "source": []
  },
  {
   "cell_type": "code",
   "execution_count": null,
   "metadata": {},
   "outputs": [],
   "source": []
  },
  {
   "cell_type": "code",
   "execution_count": null,
   "metadata": {},
   "outputs": [],
   "source": []
  },
  {
   "cell_type": "code",
   "execution_count": null,
   "metadata": {},
   "outputs": [],
   "source": []
  },
  {
   "cell_type": "code",
   "execution_count": null,
   "metadata": {},
   "outputs": [],
   "source": []
  },
  {
   "cell_type": "code",
   "execution_count": 31,
   "metadata": {},
   "outputs": [],
   "source": []
  },
  {
   "cell_type": "code",
   "execution_count": 32,
   "metadata": {
    "scrolled": false
   },
   "outputs": [],
   "source": [
    "# wrong answer (christoph waltz)\n",
    "\n"
   ]
  },
  {
   "cell_type": "code",
   "execution_count": null,
   "metadata": {},
   "outputs": [],
   "source": [
    "\n"
   ]
  },
  {
   "cell_type": "code",
   "execution_count": null,
   "metadata": {},
   "outputs": [],
   "source": []
  },
  {
   "cell_type": "code",
   "execution_count": null,
   "metadata": {},
   "outputs": [],
   "source": []
  },
  {
   "cell_type": "code",
   "execution_count": null,
   "metadata": {},
   "outputs": [],
   "source": []
  },
  {
   "cell_type": "code",
   "execution_count": null,
   "metadata": {},
   "outputs": [],
   "source": []
  },
  {
   "cell_type": "code",
   "execution_count": null,
   "metadata": {},
   "outputs": [],
   "source": []
  }
 ],
 "metadata": {
  "kernelspec": {
   "display_name": "Python 3",
   "language": "python",
   "name": "python3"
  },
  "language_info": {
   "codemirror_mode": {
    "name": "ipython",
    "version": 3
   },
   "file_extension": ".py",
   "mimetype": "text/x-python",
   "name": "python",
   "nbconvert_exporter": "python",
   "pygments_lexer": "ipython3",
   "version": "3.7.2"
  }
 },
 "nbformat": 4,
 "nbformat_minor": 4
}
