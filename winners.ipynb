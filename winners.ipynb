{
 "cells": [
  {
   "cell_type": "code",
   "execution_count": 1,
   "metadata": {},
   "outputs": [],
   "source": [
    "import datetime\n",
    "def getDate(timestamp):\n",
    "    date = datetime.datetime.fromtimestamp(int(timestamp) / 1000.0)\n",
    "    date = date.strftime('%Y-%m-%d %H:%M:%S')\n",
    "    return date\n",
    "\n",
    "def getTime(date):\n",
    "    A = date.split()[1]\n",
    "    A = A.split(\":\")[0]\n",
    "    return A"
   ]
  },
  {
   "cell_type": "code",
   "execution_count": 2,
   "metadata": {},
   "outputs": [
    {
     "name": "stdout",
     "output_type": "stream",
     "text": [
      "20\n",
      "{'text': 'Lena Dunham wins best performance by an actress in a TV musical or comedy for #Girls http://t.co/VCUv6LqO #GoldenGlobes', 'user': {'screen_name': 'ABCNewsEnt', 'id': 83866930}, 'id': 290652831843749889, 'timestamp_ms': 1358132009000}\n",
      "20\n",
      "{'text': 'RT @ABCNewsEnt: Lena Dunham wins best performance by an actress in a TV musical or comedy for #Girls http://t.co/VCUv6LqO #GoldenGlobes', 'user': {'screen_name': 'MeelaPeela', 'id': 61225801}, 'id': 290653755718918144, 'timestamp_ms': 1358132230000}\n",
      "21\n",
      "{'text': 'RT @ABCNewsEnt: Lena Dunham wins best performance by an actress in a TV musical or comedy for #Girls http://t.co/VCUv6LqO #GoldenGlobes', 'user': {'screen_name': 'jetrui_dsw', 'id': 990989762}, 'id': 290654945760378880, 'timestamp_ms': 1358132513000}\n"
     ]
    }
   ],
   "source": [
    "import json\n",
    "import re\n",
    "tweets = json.load(open(\"gg2013.json\"))\n",
    "\n",
    "for tweet in tweets:\n",
    "    text = tweet['text']\n",
    "    timestamp = tweet['timestamp_ms']\n",
    "    date = getDate(timestamp)\n",
    "    time = getTime(date)\n",
    "    if int(time)>=20:    \n",
    "        if re.search('best performance by an actress',text):\n",
    "            print(time)\n",
    "            print(tweet)"
   ]
  },
  {
   "cell_type": "code",
   "execution_count": 10,
   "metadata": {},
   "outputs": [],
   "source": [
    "people_award = {}\n",
    "\n",
    "film_award = {}\n",
    "\n",
    "film_award['best screenplay - motion picture'] = (r'[Bb]est [Ss]creenplay')\n",
    "\n",
    "people_award['best director - motion picture'] = (r'[Bb]est [Dd]irector')\n",
    "\n",
    "people_award['best performance by an actress in a television series - comedy or musical'] = (r'[Bb]est [Pp]erformance .* [Aa]ctress .* [Tt][Vv].* [Mm]usical')\n",
    "\n",
    "film_award['best foreign language film'] = (r'[Ff]oreign [Ll]anguage [Ff]ilm')\n",
    "\n",
    "\n",
    "people_award['best performance by an actor in a supporting role in a motion picture'] = (r'([Aa]ct[oe]r.*[Ss]upporting|[Ss]upporting [Aa]ct[oe]r) (in a|in) [Mm]otion')\n",
    "\n",
    "people_award['best performance by an actress in a supporting role in a series, mini-series or motion picture made for television'] = (r'([Ss]upporting.*[Aa]ctress.*[Ss]eries|[Aa]ctress.*[Ss]upporting [Rr]ole.*[Ss]eries)')\n",
    "\n",
    "film_award['best motion picture - comedy or musical'] = (r'[Bb]est [Mm]otion [Pp]icture .*[Co]medy .* [Mm]usical')\n",
    "\n",
    "people_award['best performance by an actress in a motion picture - comedy or musical'] = (r'[Bb]est [Pp]erformance .* [A]ctress [Ii]n [Aa] [Mm]otion [Pp]icture.*[Cc]omedy')\n",
    "\n",
    "film_award['best mini-series or motion picture made for television'] = (r'[Bb]est [Mm]ini.*[Ss]eries .*[Mm]otion [Pp]icture.*([Tt][Vv]|[Tt]elevision)')\n",
    "\n",
    "film_award['best original score - motion picture '] = (r'[Bb]est [Oo]riginal [Ss]core.*[Mm]otion [Pp]icture')\n",
    "\n",
    "people_award['best performance by an actress in a television series - drama'] = (r'[Bb]est [Aa]ctress( in a| in)?,? ([Tt][Vv]|[Tt]elevision).*[Dd]rama')\n",
    "\n",
    "people_award['# best performance by an actress in a motion picture - drama'] = (r'[Bb]est [Aa]ctress.*[Mm]otion [Pp]icture.*[Dd]rama')\n",
    "\n",
    "people_award['cecil b. demille award'] = (r'[Cc]ecil.*[Dd]emille')\n",
    "\n",
    "people_award['best performance by an actor in a motion picture - comedy or musical'] = (r'[Bb]est [Pp]erformance .* [Aa]ct[oe]r.* [Mm]otion [Pp]icture.*[Cc]omedy')\n",
    "\n",
    "people_award['best performance by an actor in a supporting role in a series, mini-series or motion picture made for television'] = (r'[Ss]upporting.*[Aa]ct[oe]r.*[Mm]ini')\n",
    "\n",
    "people_award[' best performance by an actress in a supporting role in a motion picture'] = (r'([Bb]est|[Ll]eading) ([Ss]upporting [Aa]ctress|[Aa]ctress.*[Ss]upporting).*([Mm]otion [Pp]icture|[Ff]ilm)')\n",
    "\n",
    "film_award[' best motion picture - drama'] = (r'([Bb]est|[Ll]eading) ((([Mm]otion)?\\s?[Pp]icture|[Ff]ilm).*[Dd]rama|[Dd]rama.*(([Mm]otion)? [Pp]icture|[Ff]ilm))')\n",
    "\n",
    "film_award['best television series - drama'] = (r'([Bb]est|[Ll]eading) (([Tt][Vv]|[Ss]eries).*[Dd]rama|([Tt][Vv]|[Ss]eries)|[Dd]rama [Ss]eries)')\n",
    "\n",
    "people_award[' best performance by an actor in a mini-series or motion picture made for television'] = (r'([Bb]est|[Ll]eading) [Aa]ctor.*[Mm]ini')\n",
    "\n",
    "people_award['best performance by an actress in a mini-series or motion picture made for television'] = (r'([Bb]est|[Ll]eading) [Aa]ctress.*[Mm]ini')\n",
    "\n",
    "film_award[' best animated feature film'] = (r'[Bb]est [Aa]nimated')\n",
    "\n",
    "film_award['best original song - motion picture'] = (r'[Bb]est ([Oo]riginal )?[Ss]ong')\n",
    "\n",
    "people_award[' best performance by an actor in a motion picture - drama '] = (r'[Bb]est [Aa]ct[oe]r.*(([Mm]otion)?\\s?[Pp]icture|[Ff]ilm).*([Dd]rama)?')\n",
    "\n",
    "film_award[' best television series - comedy or musical'] = (r'[Bb]est ([Tt][Vv]|[Tt]elevision).*[Cc]omedy')\n",
    "\n",
    "people_award['best performance by an actor in a television series - drama'] = (r'[Bb]est [Aa]ct[oe]r( in a| in)?,? ([Tt][Vv]|[Tt]elevision).*[Dd]rama')\n",
    "\n",
    "people_award['best performance by an actor in a television series - comedy or musical'] = (r'[Bb]est [Aa]ct[oe]r( in a| in)?,? ([Tt][Vv]|[Tt]elevision).*[Cc]omedy')"
   ]
  },
  {
   "cell_type": "code",
   "execution_count": 109,
   "metadata": {},
   "outputs": [],
   "source": [
    "import nltk;\n",
    "\n",
    "import spacy\n",
    "nlp = spacy.load('en') "
   ]
  },
  {
   "cell_type": "code",
   "execution_count": 128,
   "metadata": {},
   "outputs": [],
   "source": [
    "def get_winner(award_name):\n",
    "    \n",
    "    if award_name in people_award.keys():\n",
    "        search_term = people_award.get(award_name)\n",
    "    else:\n",
    "        search_term = film_award.get(award_name)\n",
    "    \n",
    "    relevant_tweets = []\n",
    "    for t in tweets:\n",
    "        text = t['text']\n",
    "        if re.search(search_term, text) and 'RT' not in text:\n",
    "            relevant_tweets.append(text)  \n",
    "            \n",
    "    possible_answer = []\n",
    "            \n",
    "    for t in relevant_tweets:\n",
    "        tokenized_t = t.lower().split()\n",
    "        if 'wins' in tokenized_t:\n",
    "            index = tokenized_t.index(\"wins\")\n",
    "            before_win = []\n",
    "            string = tokenized_t[0]\n",
    "            for i in range(1, index): \n",
    "                string += ' ' + tokenized_t[i]\n",
    "            before_win.append(string)\n",
    "            \n",
    "#             print(before_win)\n",
    "            \n",
    "            sents_to_extract = []\n",
    "            \n",
    "            for s in before_win:\n",
    "            \n",
    "#             sents_to_extract = nlp(s) \n",
    "            \n",
    "                names = [ee for ee in nlp(s).ents if ee.label_ == 'PERSON']\n",
    "                possible_answer.append(names)\n",
    "                \n",
    "            \n",
    "#     name_pair = []\n",
    "#     for possible_name_pair in possible_answer:\n",
    "#         if nltk.pos_tag(possible_name_pair)[0] == 'NNP' and nltk.pos_tag(possible_name_pair)[1] == 'NNP':\n",
    "#             name_pair.append(possible_name_pair)\n",
    "        \n",
    "    \n",
    "    print(possible_answer)\n",
    "    #return relevant_tweets"
   ]
  },
  {
   "cell_type": "code",
   "execution_count": 127,
   "metadata": {
    "scrolled": true
   },
   "outputs": [
    {
     "name": "stdout",
     "output_type": "stream",
     "text": [
      "[[julianne moore], [julianna moore], [julianne moore], [julianne moore], [julianne moore], [julianne moore], [julianne moore], [julianne moore], [julianne moore], [julianne moore], [[perez, julianne moore], [julianne moore], [goldenglobes claire], [julianne moore]]\n"
     ]
    }
   ],
   "source": [
    "get_winner('best performance by an actress in a mini-series or motion picture made for television')"
   ]
  },
  {
   "cell_type": "code",
   "execution_count": null,
   "metadata": {},
   "outputs": [],
   "source": []
  },
  {
   "cell_type": "code",
   "execution_count": null,
   "metadata": {},
   "outputs": [],
   "source": [
    "import spacy\n",
    "en = spacy.load('en')\n",
    "\n",
    "sents = en(open('input.txt').read())\n",
    "people = [ee for ee in sents.ents if ee.label_ == 'PERSON']"
   ]
  }
 ],
 "metadata": {
  "kernelspec": {
   "display_name": "Python 3",
   "language": "python",
   "name": "python3"
  },
  "language_info": {
   "codemirror_mode": {
    "name": "ipython",
    "version": 3
   },
   "file_extension": ".py",
   "mimetype": "text/x-python",
   "name": "python",
   "nbconvert_exporter": "python",
   "pygments_lexer": "ipython3",
   "version": "3.6.8"
  }
 },
 "nbformat": 4,
 "nbformat_minor": 4
}
