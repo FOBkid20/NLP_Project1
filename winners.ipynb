{
 "cells": [
  {
   "cell_type": "code",
   "execution_count": 21,
   "metadata": {},
   "outputs": [],
   "source": [
    "import datetime\n",
    "def getDate(timestamp):\n",
    "    date = datetime.datetime.fromtimestamp(int(timestamp) / 1000.0)\n",
    "    date = date.strftime('%Y-%m-%d %H:%M:%S')\n",
    "    return date\n",
    "\n",
    "def getTime(date):\n",
    "    A = date.split()[1]\n",
    "    A = A.split(\":\")[0]\n",
    "    return A"
   ]
  },
  {
   "cell_type": "code",
   "execution_count": 27,
   "metadata": {},
   "outputs": [
    {
     "name": "stdout",
     "output_type": "stream",
     "text": [
      "20\n",
      "{'text': 'Lena Dunham wins best performance by an actress in a TV musical or comedy for #Girls http://t.co/VCUv6LqO #GoldenGlobes', 'user': {'screen_name': 'ABCNewsEnt', 'id': 83866930}, 'id': 290652831843749889, 'timestamp_ms': 1358132009000}\n",
      "20\n",
      "{'text': 'RT @ABCNewsEnt: Lena Dunham wins best performance by an actress in a TV musical or comedy for #Girls http://t.co/VCUv6LqO #GoldenGlobes', 'user': {'screen_name': 'MeelaPeela', 'id': 61225801}, 'id': 290653755718918144, 'timestamp_ms': 1358132230000}\n",
      "21\n",
      "{'text': 'RT @ABCNewsEnt: Lena Dunham wins best performance by an actress in a TV musical or comedy for #Girls http://t.co/VCUv6LqO #GoldenGlobes', 'user': {'screen_name': 'jetrui_dsw', 'id': 990989762}, 'id': 290654945760378880, 'timestamp_ms': 1358132513000}\n"
     ]
    }
   ],
   "source": [
    "import json\n",
    "import re\n",
    "tweets = json.load(open(\"gg2013.json\"))\n",
    "\n",
    "for tweet in tweets:\n",
    "    text = tweet['text']\n",
    "    timestamp = tweet['timestamp_ms']\n",
    "    date = getDate(timestamp)\n",
    "    time = getTime(date)\n",
    "    if int(time)>=20:    \n",
    "        if re.search('best performance by an actress',text):\n",
    "            print(time)\n",
    "            print(tweet)"
   ]
  },
  {
   "cell_type": "code",
   "execution_count": null,
   "metadata": {},
   "outputs": [],
   "source": []
  },
  {
   "cell_type": "code",
   "execution_count": null,
   "metadata": {},
   "outputs": [],
   "source": []
  }
 ],
 "metadata": {
  "kernelspec": {
   "display_name": "Python 3",
   "language": "python",
   "name": "python3"
  },
  "language_info": {
   "codemirror_mode": {
    "name": "ipython",
    "version": 3
   },
   "file_extension": ".py",
   "mimetype": "text/x-python",
   "name": "python",
   "nbconvert_exporter": "python",
   "pygments_lexer": "ipython3",
   "version": "3.7.2"
  }
 },
 "nbformat": 4,
 "nbformat_minor": 4
}
